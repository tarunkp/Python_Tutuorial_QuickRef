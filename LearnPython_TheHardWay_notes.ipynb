{
 "cells": [
  {
   "cell_type": "markdown",
   "metadata": {},
   "source": [
    "# Learn Python 3 - The hard way"
   ]
  },
  {
   "cell_type": "code",
   "execution_count": 1,
   "metadata": {},
   "outputs": [
    {
     "name": "stdout",
     "output_type": "stream",
     "text": [
      "Hello World!\n",
      "Hello World!\n",
      "HelloWorld!\n",
      "Heans 30.0\n",
      "3/2 =  1.5\n",
      "4/2 =  2.0\n",
      "3//2 =  1\n",
      "Is 3 less than 4? True\n",
      "Is 3 greater than 4? False\n"
     ]
    }
   ],
   "source": [
    "print(\"Hello World!\")\n",
    "print(\"Hello\", \"World!\")\n",
    "print(\"Hello\" + \"World!\") #String concat\n",
    "print(\"Heans\", 25 + 30/6)\n",
    "print(\"3/2 = \", 3/2)\n",
    "print(\"4/2 = \", 4/2)\n",
    "print(\"3//2 = \", 3//2)\n",
    "print(\"Is 3 less than 4?\", 3 < 4)\n",
    "print(\"Is 3 greater than 4?\", 3 > 4)"
   ]
  },
  {
   "cell_type": "markdown",
   "metadata": {},
   "source": [
    "Notes/Observations\n",
    "1. Arguments to print are printed with a space character between them.\n",
    "2. integer + float = float. Result of such expressions are upgraded to hold result.\n",
    "3. operator '//' is for integer/floor devision. operator '/' gives float results."
   ]
  },
  {
   "cell_type": "code",
   "execution_count": 1,
   "metadata": {},
   "outputs": [
    {
     "name": "stdout",
     "output_type": "stream",
     "text": [
      "=*==*==*==*==*==*==*==*==*==*==*==*=\n",
      "There are 100 cars available.\n",
      "We have 90 to carpool today.\n",
      "There are only 30 drivers available.\n",
      "There will be 70 empty cars today.\n",
      "We can transport 120.0 people today.\n",
      "We need to put about 3.0 in 30 cars.\n",
      "=**==**==**==**==**==**==**==**==**=\n"
     ]
    }
   ],
   "source": [
    "cars = 100\n",
    "space_in_a_car = 4.0\n",
    "drivers = 30\n",
    "passengers = 90\n",
    "cars_not_driven = cars - drivers\n",
    "cars_driven = drivers\n",
    "carpool_capacity = cars_driven * space_in_a_car\n",
    "average_passengers_per_car = passengers / cars_driven\n",
    "\n",
    "print(\"=*=\" * 12)\n",
    "print(\"There are\", cars, \"cars available.\")\n",
    "msg = f\"We have {passengers} to carpool today.\"\n",
    "print(msg)\n",
    "print(\"There are only\", drivers, \"drivers available.\")\n",
    "print(\"There will be\", cars_not_driven, \"empty cars today.\")\n",
    "print(f\"We can transport {carpool_capacity} people today.\")\n",
    "msg = \"We need to put about {} in {} cars.\".format(average_passengers_per_car, drivers)\n",
    "print(msg)\n",
    "print(\"=**=\" * 9)\n"
   ]
  },
  {
   "cell_type": "code",
   "execution_count": 1,
   "metadata": {},
   "outputs": [
    {
     "name": "stdout",
     "output_type": "stream",
     "text": [
      "Here are the first 5 months:  \n",
      "Jan\tFeb\n",
      "Mar\tApr\tand May\n",
      "There's something going on here.\n",
      "With the three double- quotes.\n",
      "We'll be able to type as much as we like.\n",
      "Even 4 lines if we want, or 5, or 6.\n",
      "How old are you? 1\n",
      "Your age is 1.\n"
     ]
    }
   ],
   "source": [
    "months = \"\\nJan\\tFeb\\nMar\\tApr\"\n",
    "print(\"Here are the first 5 months: \", months, end='\\tand May\\n')\n",
    "print(\"\"\"There's something going on here.\n",
    "With the three double- quotes.\n",
    "We'll be able to type as much as we like.\n",
    "Even 4 lines if we want, or 5, or 6.\"\"\")\n",
    "\n",
    "age = input(\"How old are you? \")\n",
    "print(f\"Your age is {age}.\")"
   ]
  },
  {
   "cell_type": "code",
   "execution_count": null,
   "metadata": {
    "collapsed": true
   },
   "outputs": [],
   "source": []
  }
 ],
 "metadata": {
  "kernelspec": {
   "display_name": "Python 3",
   "language": "python",
   "name": "python3"
  },
  "language_info": {
   "codemirror_mode": {
    "name": "ipython",
    "version": 3
   },
   "file_extension": ".py",
   "mimetype": "text/x-python",
   "name": "python",
   "nbconvert_exporter": "python",
   "pygments_lexer": "ipython3",
   "version": "3.6.7"
  }
 },
 "nbformat": 4,
 "nbformat_minor": 2
}
