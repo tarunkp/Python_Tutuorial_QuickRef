{
 "cells": [
  {
   "cell_type": "code",
   "execution_count": 27,
   "metadata": {},
   "outputs": [
    {
     "name": "stdout",
     "output_type": "stream",
     "text": [
      "a = [5, 1, 4, 3]\n",
      "a = [5, 1, 4, 3]\n",
      "b = [1, 3, 4, 5]\n",
      "a = [1, 3, 4, 5]\n",
      "[1, 2, 3, 4, 5]\n"
     ]
    }
   ],
   "source": [
    "# Sort a list\n",
    "# two functions can be used viz\n",
    "# list.sort() --> Returns nothing\n",
    "# sorted(list) --> Return iterable (python3)/list(python2)\n",
    "\n",
    "a = [5, 1, 4, 3]\n",
    "print (\"a =\", a) \n",
    "\n",
    "b = sorted(a) # return sorted list\n",
    "print (\"a =\", a) \n",
    "print (\"b =\", b) \n",
    "a.sort()  # Returns nothing, in place sort, defined for lists only\n",
    "print (\"a =\", a) \n",
    "# sorted is defined for any iterable\n",
    "print(sorted({1: 'D', 2: 'B', 3: 'B', 4: 'E', 5: 'A'}))\n"
   ]
  },
  {
   "cell_type": "code",
   "execution_count": 40,
   "metadata": {},
   "outputs": [
    {
     "name": "stdout",
     "output_type": "stream",
     "text": [
      "['BB', 'CC', 'aa', 'zz']\n",
      "['zz', 'aa', 'CC', 'BB']\n",
      "['aa', 'BB', 'CC', 'zz']\n",
      "['d', 'bb', 'ccc', 'aaaa']\n",
      "[(1, 2), (4, 1), (9, 10), (13, -3)]\n"
     ]
    }
   ],
   "source": [
    "# Case sensitive sorting\n",
    "strs = ['aa', 'BB', 'zz', 'CC']\n",
    "print (sorted(strs))\n",
    "print (sorted(strs, reverse=True))\n",
    "\n",
    "# \"key\" argument specifying str.lower function to use for sorting\n",
    "print (sorted(strs, key=str.lower))\n",
    "\n",
    "strs = ['ccc', 'aaaa', 'd', 'bb']\n",
    "print(sorted(strs, key=len))\n",
    "\n",
    "# Tuples are compared lexicographically\n",
    "a = [(4, 1), (1, 2), (9, 10), (13, -3)]\n",
    "print(sorted(a))\n"
   ]
  },
  {
   "cell_type": "code",
   "execution_count": 29,
   "metadata": {},
   "outputs": [
    {
     "name": "stdout",
     "output_type": "stream",
     "text": [
      "['wa', 'zb', 'xc', 'yd']\n"
     ]
    }
   ],
   "source": [
    "# Say we have a list of strings we want to sort by the last letter of the string.\n",
    "strs = ['xc', 'zb', 'yd' ,'wa']\n",
    "\n",
    "## Write a little function that takes a string, and returns its last letter.\n",
    "## This will be the key function (takes in 1 value, returns 1 value).\n",
    "def MyFn(s):\n",
    "    return s[-1]\n",
    "\n",
    "## Now pass key=MyFn to sorted() to sort by the last letter:\n",
    "print (sorted(strs, key=MyFn))"
   ]
  },
  {
   "cell_type": "code",
   "execution_count": 30,
   "metadata": {},
   "outputs": [
    {
     "name": "stdout",
     "output_type": "stream",
     "text": [
      "[(13, -3), (4, 1), (1, 2), (9, 10)]\n",
      "[(13, -3), (4, 1), (1, 2), (9, 10)]\n"
     ]
    }
   ],
   "source": [
    "a = [(1, 2), (4, 1), (9, 10), (13, -3)]\n",
    "b = sorted(a, key=lambda x: x[1])\n",
    "a.sort(key=lambda x: x[1])\n",
    "\n",
    "print(b)\n",
    "print(a)"
   ]
  },
  {
   "cell_type": "markdown",
   "metadata": {},
   "source": [
    "#### Operator Module Functions\n",
    "The key-function patterns shown above are very common, so Python provides convenience functions to make accessor functions easier and faster. The operator module has __itemgetter(), attrgetter(), and a methodcaller() functions__. \n",
    "Using those functions, the above examples become simpler and faster"
   ]
  },
  {
   "cell_type": "code",
   "execution_count": 31,
   "metadata": {},
   "outputs": [
    {
     "name": "stdout",
     "output_type": "stream",
     "text": [
      "[(13, -3), (4, 1), (1, 2), (9, 10)]\n"
     ]
    }
   ],
   "source": [
    "from operator import itemgetter, attrgetter, methodcaller\n",
    "a = [(1, 2), (4, 1), (9, 10), (13, -3)]\n",
    "print(sorted(a, key=itemgetter(1)))\n"
   ]
  },
  {
   "cell_type": "code",
   "execution_count": 43,
   "metadata": {},
   "outputs": [
    {
     "name": "stdout",
     "output_type": "stream",
     "text": [
      "[('john', 'A', 10), ('dave', 'B', 10), ('jane', 'B', 12)]\n",
      "[('john', 0.2), ('jane', 0.08333333333333333), ('dave', 0.1)]\n",
      "[('jane', 'B', 12), ('dave', 'B', 10), ('john', 'A', 10)]\n"
     ]
    }
   ],
   "source": [
    "from operator import itemgetter, attrgetter, methodcaller\n",
    "\n",
    "class Student:\n",
    "    def __init__(self, name, grade, age):\n",
    "        self.name = name\n",
    "        self.grade = grade\n",
    "        self.age = age\n",
    "    def __repr__(self):\n",
    "        return repr((self.name, self.grade, self.age))\n",
    "    def weighted_grade(self):\n",
    "        return 'CBA'.index(self.grade) / float(self.age)\n",
    "\n",
    "student_list = [\n",
    "    Student('john', 'A', 10),\n",
    "    Student('jane', 'B', 12),\n",
    "    Student('dave', 'B', 10),\n",
    "]\n",
    "print(sorted(student_list, key=attrgetter('age')))\n",
    "\n",
    "print([(student.name, student.weighted_grade()) for student in student_list])\n",
    "print(sorted(student_list, key=methodcaller('weighted_grade')))\n"
   ]
  },
  {
   "cell_type": "code",
   "execution_count": 33,
   "metadata": {},
   "outputs": [
    {
     "name": "stdout",
     "output_type": "stream",
     "text": [
      "[1, 3, 4, 5, 6]\n",
      "['one', 'three', 'four', 'five', 'six']\n"
     ]
    }
   ],
   "source": [
    "# Parallel sorting of 2 lists\n",
    "list1 = [1, 5, 4, 3, 6]\n",
    "list2 = ['one', 'five', 'four', 'three', 'six']\n",
    "\n",
    "data = list(zip(list1, list2))\n",
    "data.sort()\n",
    "list1, list2 = map(lambda t: list(t), zip(*data))\n",
    "print(list1)\n",
    "print(list2)"
   ]
  },
  {
   "cell_type": "markdown",
   "metadata": {},
   "source": [
    "#### Sort Stability and Complex Sorts\n",
    "Sorts are guaranteed to be stable. That means that when multiple records have the same key, their original order is preserved.\n",
    "The Timsort algorithm used in Python does multiple sorts efficiently because it can take advantage of any ordering already present in a dataset.\n"
   ]
  },
  {
   "cell_type": "code",
   "execution_count": 23,
   "metadata": {},
   "outputs": [
    {
     "name": "stdout",
     "output_type": "stream",
     "text": [
      "[('blue', 1), ('blue', 2), ('red', 1), ('red', 2)]\n",
      "[('john', 'A', 10), ('dave', 'B', 10), ('jane', 'B', 12)]\n",
      "[('dave', 'B', 10), ('jane', 'B', 12), ('john', 'A', 10)]\n"
     ]
    }
   ],
   "source": [
    "data = [('red', 1), ('blue', 1), ('red', 2), ('blue', 2)]\n",
    "# Notice how the two records for blue retain their original order so that ('blue', 1) is guaranteed to precede ('blue', 2).\n",
    "# This wonderful property lets you build complex sorts in a series of sorting steps.\n",
    "print(sorted(data, key=itemgetter(0)))\n",
    "\n",
    "# For example, to sort the student data by descending grade and then ascending age, \n",
    "# do the age sort first and then sort again using grade:\n",
    "s = sorted(student_list, key=attrgetter('age'))     # sort on secondary key\n",
    "print(s)\n",
    "print(sorted(s, key=attrgetter('grade'), reverse=True))       # now sort on primary key, descending\n"
   ]
  },
  {
   "cell_type": "markdown",
   "metadata": {},
   "source": [
    "#### Decorate-Sort-Undecorate\n",
    "First, the initial list is decorated with new values that control the sort order.\n",
    "Second, the decorated list is sorted.\n",
    "Finally, the decorations are removed, creating a list that contains only the initial values in the new order.\n",
    "For example, to sort the student data by grade using the DSU approach:\n"
   ]
  },
  {
   "cell_type": "code",
   "execution_count": 35,
   "metadata": {},
   "outputs": [
    {
     "name": "stdout",
     "output_type": "stream",
     "text": [
      "[('john', 'A', 10), ('jane', 'B', 12), ('dave', 'B', 10)]\n"
     ]
    }
   ],
   "source": [
    "decorated = [(student.grade, i, student) for i, student in enumerate(student_list)]\n",
    "decorated.sort()\n",
    "print([student for grade, i, student in decorated])               # undecorate\n"
   ]
  },
  {
   "cell_type": "code",
   "execution_count": 36,
   "metadata": {},
   "outputs": [
    {
     "name": "stdout",
     "output_type": "stream",
     "text": [
      "[('john', 'A', 10), ('dave', 'B', 10), ('jane', 'B', 12)]\n"
     ]
    }
   ],
   "source": [
    "#  The sort routines are guaranteed to use __lt__() when making comparisons between two objects.\n",
    "# So, it is easy to add a standard sort order to a class by defining an __lt__() method:\n",
    "\n",
    "Student.__lt__ = lambda self, other: self.age < other.age\n",
    "print(sorted(student_list))"
   ]
  },
  {
   "cell_type": "code",
   "execution_count": 37,
   "metadata": {},
   "outputs": [
    {
     "data": {
      "text/plain": [
       "['jane', 'dave', 'john']"
      ]
     },
     "execution_count": 37,
     "metadata": {},
     "output_type": "execute_result"
    }
   ],
   "source": [
    "# Key functions need not depend directly on the objects being sorted.\n",
    "# A key function can also access external resources. For instance, if the student grades are stored in a dictionary, \n",
    "# they can be used to sort a separate list of student names:\n",
    "students = ['dave', 'john', 'jane']\n",
    "newgrades = {'john': 'F', 'jane':'A', 'dave': 'C'}\n",
    "sorted(students, key=newgrades.__getitem__)\n"
   ]
  },
  {
   "cell_type": "code",
   "execution_count": 39,
   "metadata": {},
   "outputs": [
    {
     "name": "stdout",
     "output_type": "stream",
     "text": [
      "True\n"
     ]
    }
   ],
   "source": [
    "# reverse parameter still maintains sort stability (so that records with equal keys retain the original order).\n",
    "# Interestingly, that effect can be simulated without the parameter by using the builtin reversed() function twice:\n",
    "data = [('red', 1), ('blue', 1), ('red', 2), ('blue', 2)]\n",
    "print(sorted(data, reverse=True) == list(reversed(sorted(reversed(data)))))"
   ]
  },
  {
   "cell_type": "code",
   "execution_count": null,
   "metadata": {},
   "outputs": [],
   "source": [
    "# https://wiki.python.org/moin/HowTo/Sorting"
   ]
  },
  {
   "cell_type": "code",
   "execution_count": null,
   "metadata": {},
   "outputs": [],
   "source": []
  }
 ],
 "metadata": {
  "kernelspec": {
   "display_name": "Python 3",
   "language": "python",
   "name": "python3"
  },
  "language_info": {
   "codemirror_mode": {
    "name": "ipython",
    "version": 3
   },
   "file_extension": ".py",
   "mimetype": "text/x-python",
   "name": "python",
   "nbconvert_exporter": "python",
   "pygments_lexer": "ipython3",
   "version": "3.6.6"
  }
 },
 "nbformat": 4,
 "nbformat_minor": 2
}
