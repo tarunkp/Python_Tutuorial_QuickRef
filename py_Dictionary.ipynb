{
 "cells": [
  {
   "cell_type": "markdown",
   "metadata": {},
   "source": [
    "## Python Dictionary (Hash Table or key value store)"
   ]
  },
  {
   "cell_type": "markdown",
   "metadata": {},
   "source": [
    "### Create empty dictionary and adding elements\n"
   ]
  },
  {
   "cell_type": "code",
   "execution_count": 1,
   "metadata": {},
   "outputs": [
    {
     "name": "stdout",
     "output_type": "stream",
     "text": [
      "hash1 = {} \tlen(hash1) = 0\n",
      "hash2 = {'age': 25} \tlen(hash2) = 1\n",
      "hash3 = {'a': 1, 'b': 2, 'c': 3} \tlen(hash3) = 3\n",
      "After del(hash3['a']), hash3 = {'b': 2, 'c': 3} \tlen(hash3) = 2\n",
      "\n",
      "{'Nick': 'Programmer', 'Alice': 'Engineer'}\n",
      "dict_items([('Nick', 'Programmer'), ('Alice', 'Engineer')])\n",
      "dict_keys(['Nick', 'Alice'])\n",
      "dict_values(['Programmer', 'Engineer'])\n"
     ]
    }
   ],
   "source": [
    "hash1 = {}\n",
    "hash2 = dict()\n",
    "\n",
    "hash2[\"age\"] = 25\n",
    "print(\"hash1 =\", hash1, \"\\tlen(hash1) =\", len(hash1))\n",
    "print(\"hash2 =\", hash2, \"\\tlen(hash2) =\", len(hash2))\n",
    "hash3 = {'a':1, 'b':2, 'c':3}\n",
    "print(\"hash3 =\", hash3, \"\\tlen(hash3) =\", len(hash3))\n",
    "del(hash3['a'])\n",
    "print(\"After del(hash3['a']), hash3 =\", hash3, \"\\tlen(hash3) =\", len(hash3))\n",
    "print()\n",
    "\n",
    "class Person(object):\n",
    "    def __init__(self, name, profession):\n",
    "        self.name = name\n",
    "        self.profession = profession\n",
    " \n",
    "people = [Person(\"Nick\", \"Programmer\"), Person(\"Alice\",\"Engineer\")]\n",
    "professions = {}\n",
    "for p in people:\n",
    "    professions[p.name] = p.profession\n",
    "\n",
    "print(professions)\n",
    "print(professions.items())\n",
    "print(professions.keys())\n",
    "print(professions.values())\n"
   ]
  },
  {
   "cell_type": "markdown",
   "metadata": {},
   "source": [
    "### Create Dictionary with list of touples\n"
   ]
  },
  {
   "cell_type": "code",
   "execution_count": 2,
   "metadata": {},
   "outputs": [
    {
     "name": "stdout",
     "output_type": "stream",
     "text": [
      "{'name': 'Tarun', 'age': 25, 5: 7}\n",
      "{'Nick': 'Programmer', 'Alice': 'Engineer'}\n"
     ]
    }
   ],
   "source": [
    "d = dict([('name', 'Tarun'), ('age', 25), (5, 7)])\n",
    "print(d)\n",
    "\n",
    "# Touples are more suitable for list comprehension\n",
    "people = [Person(\"Nick\", \"Programmer\"), Person(\"Alice\",\"Engineer\")]\n",
    "professions = dict([ (p.name, p.profession) for p in people ]) # list comprehension\n",
    "print (professions)\n"
   ]
  },
  {
   "cell_type": "markdown",
   "metadata": {},
   "source": [
    "### create Dictionary from one list\n"
   ]
  },
  {
   "cell_type": "code",
   "execution_count": 3,
   "metadata": {},
   "outputs": [
    {
     "name": "stdout",
     "output_type": "stream",
     "text": [
      "{0: 51, 1: 27, 2: 13, 3: 56}\n"
     ]
    }
   ],
   "source": [
    "a = [51,27,13,56]\n",
    "b = dict(enumerate(a))\n",
    "print(b)\n"
   ]
  },
  {
   "cell_type": "markdown",
   "metadata": {},
   "source": [
    "### Creating dictionary from two parallel lists\n"
   ]
  },
  {
   "cell_type": "code",
   "execution_count": 4,
   "metadata": {},
   "outputs": [
    {
     "name": "stdout",
     "output_type": "stream",
     "text": [
      "{'Nick': 'Programmer', 'Alice': 'Engineer', 'Kitty': 'Art Therapist'}\n",
      "{'Nick': 'Programmer', 'Alice': 'Engineer', 'Kitty': 'Art Therapist'}\n",
      "{'Nick': 'Programmer', 'Alice': 'Engineer', 'Kitty': 'Art Therapist'}\n"
     ]
    }
   ],
   "source": [
    "names = [\"Nick\", \"Alice\", \"Kitty\"]\n",
    "professions = [\"Programmer\", \"Engineer\", \"Art Therapist\"]\n",
    "\n",
    "assert(len(names) == len(professions))\n",
    "professions_dict1 = {}\n",
    "for i in range(len(names)):\n",
    "    professions_dict1[names[i]] = professions[i]\n",
    "print(professions_dict1)\n",
    "\n",
    "# or using list comprehension \n",
    "professions_dict2 = {names[i]: professions[i] for i in range(len(names))}\n",
    "print(professions_dict2)\n",
    "\n",
    "# Same can be achieved with zip\n",
    "professions_dict3 = dict(zip(names, professions))\n",
    "print(professions_dict3)\n"
   ]
  },
  {
   "cell_type": "markdown",
   "metadata": {},
   "source": [
    "### Key of a dictionary can only be a immutable object."
   ]
  },
  {
   "cell_type": "code",
   "execution_count": 5,
   "metadata": {},
   "outputs": [
    {
     "ename": "TypeError",
     "evalue": "unhashable type: 'list'",
     "output_type": "error",
     "traceback": [
      "\u001b[1;31m---------------------------------------------------------------------------\u001b[0m",
      "\u001b[1;31mTypeError\u001b[0m                                 Traceback (most recent call last)",
      "\u001b[1;32m<ipython-input-5-cd66460963b1>\u001b[0m in \u001b[0;36m<module>\u001b[1;34m\u001b[0m\n\u001b[1;32m----> 1\u001b[1;33m \u001b[0mdictt\u001b[0m \u001b[1;33m=\u001b[0m \u001b[1;33m{\u001b[0m \u001b[1;33m[\u001b[0m\u001b[1;36m1\u001b[0m\u001b[1;33m,\u001b[0m\u001b[1;36m2\u001b[0m\u001b[1;33m,\u001b[0m\u001b[1;36m3\u001b[0m\u001b[1;33m]\u001b[0m\u001b[1;33m:\u001b[0m\u001b[1;34m\"abc\"\u001b[0m\u001b[1;33m}\u001b[0m\u001b[1;33m\u001b[0m\u001b[1;33m\u001b[0m\u001b[0m\n\u001b[0m\u001b[0;32m      2\u001b[0m \u001b[1;31m# output -  TypeError: unhashable type: 'list'\u001b[0m\u001b[1;33m\u001b[0m\u001b[1;33m\u001b[0m\u001b[1;33m\u001b[0m\u001b[0m\n\u001b[0;32m      3\u001b[0m \u001b[0mlistt\u001b[0m \u001b[1;33m=\u001b[0m \u001b[1;33m[\u001b[0m\u001b[1;36m1\u001b[0m\u001b[1;33m,\u001b[0m\u001b[1;36m2\u001b[0m\u001b[1;33m,\u001b[0m\u001b[1;36m3\u001b[0m\u001b[1;33m]\u001b[0m\u001b[1;33m\u001b[0m\u001b[1;33m\u001b[0m\u001b[0m\n\u001b[0;32m      4\u001b[0m \u001b[0mdic\u001b[0m \u001b[1;33m=\u001b[0m \u001b[1;33m{\u001b[0m \u001b[0mlistt\u001b[0m\u001b[1;33m:\u001b[0m\u001b[1;34m\"abc\"\u001b[0m\u001b[1;33m}\u001b[0m\u001b[1;33m\u001b[0m\u001b[1;33m\u001b[0m\u001b[0m\n\u001b[0;32m      5\u001b[0m \u001b[1;31m# output -  TypeError: unhashable type: 'list'\u001b[0m\u001b[1;33m\u001b[0m\u001b[1;33m\u001b[0m\u001b[1;33m\u001b[0m\u001b[0m\n",
      "\u001b[1;31mTypeError\u001b[0m: unhashable type: 'list'"
     ]
    }
   ],
   "source": [
    "dictt = { [1,2,3]:\"abc\"}\n",
    "# output -  TypeError: unhashable type: 'list'\n",
    "listt = [1,2,3]\n",
    "dic = { listt:\"abc\"}\n",
    "# output -  TypeError: unhashable type: 'list'"
   ]
  },
  {
   "cell_type": "markdown",
   "metadata": {},
   "source": [
    "### Tuples can be dictionary key as they are immutable.\n"
   ]
  },
  {
   "cell_type": "code",
   "execution_count": 6,
   "metadata": {},
   "outputs": [
    {
     "name": "stdout",
     "output_type": "stream",
     "text": [
      "{(1, 2, 3): 'abc', 3.1415: 'abc'}\n"
     ]
    }
   ],
   "source": [
    "dictt = { (1,2,3):\"abc\", 3.1415:\"abc\"}\n",
    "print(dictt)"
   ]
  },
  {
   "cell_type": "markdown",
   "metadata": {},
   "source": [
    "### Checking existance of a key in the dictionary"
   ]
  },
  {
   "cell_type": "code",
   "execution_count": 7,
   "metadata": {},
   "outputs": [
    {
     "name": "stdout",
     "output_type": "stream",
     "text": [
      "'a' in hash1 = True\n",
      "'a' not in hash1 = False\n",
      "'x' in hash1 = False\n"
     ]
    }
   ],
   "source": [
    "hash1 = {'a':1, 'b':2, 'c':3}\n",
    "print(\"'a' in hash1 =\", 'a' in hash1)\n",
    "print(\"'a' not in hash1 =\", 'a' not in hash1)\n",
    "print(\"'x' in hash1 =\", 'x' in hash1)"
   ]
  },
  {
   "cell_type": "markdown",
   "metadata": {},
   "source": [
    "### Merging two dictionaries"
   ]
  },
  {
   "cell_type": "code",
   "execution_count": 8,
   "metadata": {},
   "outputs": [
    {
     "name": "stdout",
     "output_type": "stream",
     "text": [
      "{'a': 1, 'b': 2, 'c': 3, 'y': 25, 'z': 26}\n"
     ]
    }
   ],
   "source": [
    "# update() merges the keys and values of one dictionary into another, overwriting values of the same key\n",
    "hash1 = {'a':0, 'b':2, 'c':3}\n",
    "hash2 = {'a':1, 'y':25, 'z':26}\n",
    "hash1.update(hash2)\n",
    "print(hash1)"
   ]
  },
  {
   "cell_type": "markdown",
   "metadata": {},
   "source": [
    "### Iterating over Dictionaries\n"
   ]
  },
  {
   "cell_type": "code",
   "execution_count": 9,
   "metadata": {},
   "outputs": [
    {
     "name": "stdout",
     "output_type": "stream",
     "text": [
      "a  b  c  \n",
      "a  b  c  \n",
      "1  2  3  \n",
      "a 1  b 2  c 3  \n",
      "<class 'dict'>\n",
      "<class 'dict_keys'>\n",
      "<class 'dict_values'>\n",
      "<class 'dict_items'>\n"
     ]
    }
   ],
   "source": [
    "hash1 = {'a':1, 'b':2, 'c':3}\n",
    "\n",
    "for key in hash1:\n",
    "\tprint(key, end=\"  \")\n",
    "print(\"\")\n",
    "\n",
    "for key in hash1.keys():\n",
    "\tprint(key, end=\"  \")\n",
    "print(\"\")\n",
    "\n",
    "for val in hash1.values():\n",
    "\tprint(val, end=\"  \")\n",
    "print(\"\")\n",
    "\n",
    "for key, val in hash1.items(): # returns tuples\n",
    "\tprint(key, val, end=\"  \")\n",
    "print(\"\")\n",
    "\n",
    "\n",
    "print(type(hash1))\n",
    "print(type(hash1.keys()))\n",
    "print(type(hash1.values()))\n",
    "print(type(hash1.items()))"
   ]
  },
  {
   "cell_type": "code",
   "execution_count": null,
   "metadata": {},
   "outputs": [],
   "source": []
  }
 ],
 "metadata": {
  "kernelspec": {
   "display_name": "Python 3",
   "language": "python",
   "name": "python3"
  },
  "language_info": {
   "codemirror_mode": {
    "name": "ipython",
    "version": 3
   },
   "file_extension": ".py",
   "mimetype": "text/x-python",
   "name": "python",
   "nbconvert_exporter": "python",
   "pygments_lexer": "ipython3",
   "version": "3.6.7"
  }
 },
 "nbformat": 4,
 "nbformat_minor": 2
}
