{
 "cells": [
  {
   "cell_type": "code",
   "execution_count": 4,
   "metadata": {},
   "outputs": [
    {
     "name": "stdout",
     "output_type": "stream",
     "text": [
      "89784136\n",
      "89784136\n"
     ]
    }
   ],
   "source": [
    "# id\n",
    "# internal integer id of any object \n",
    "name = \"John\"\n",
    "print(id(name))\n",
    "other_name = name\n",
    "print(id(other_name))\n"
   ]
  },
  {
   "cell_type": "code",
   "execution_count": 7,
   "metadata": {},
   "outputs": [
    {
     "name": "stdout",
     "output_type": "stream",
     "text": [
      "type('') = <class 'str'>\n",
      "type([]) = <class 'list'>\n",
      "type(list) = <class 'type'>\n",
      "type(list) = <class 'dict'>\n"
     ]
    }
   ],
   "source": [
    "# type\n",
    "# get type of any variable or class.\n",
    "print(\"type('') =\", type(''))\n",
    "print(\"type([]) =\", type([]))\n",
    "print(\"type(list) =\", type(list))\n",
    "a = {}\n",
    "print(\"type(list) =\", type(a))\n"
   ]
  },
  {
   "cell_type": "code",
   "execution_count": 12,
   "metadata": {},
   "outputs": [
    {
     "name": "stdout",
     "output_type": "stream",
     "text": [
      "['In', 'Out', '_', '_1', '_3', '_4', '_5', '_6', '_7', '__', '___', '__builtin__', '__builtins__', '__doc__', '__loader__', '__name__', '__package__', '__spec__', '_dh', '_i', '_i1', '_i10', '_i11', '_i12', '_i2', '_i3', '_i4', '_i5', '_i6', '_i7', '_i8', '_i9', '_ih', '_ii', '_iii', '_oh', 'exit', 'get_ipython', 'quit']\n",
      "\n",
      "Use %reset to clear names in current scope.\n"
     ]
    }
   ],
   "source": [
    "# dir - List  names/synbols in current scope\n",
    "print( dir() )\n",
    "\n",
    "print('\\nUse %reset to clear names in current scope.')\n"
   ]
  },
  {
   "cell_type": "code",
   "execution_count": 9,
   "metadata": {},
   "outputs": [
    {
     "name": "stdout",
     "output_type": "stream",
     "text": [
      "['__bool__', '__class__', '__delattr__', '__dir__', '__doc__', '__eq__', '__format__', '__ge__', '__getattribute__', '__gt__', '__hash__', '__init__', '__init_subclass__', '__le__', '__lt__', '__ne__', '__new__', '__reduce__', '__reduce_ex__', '__repr__', '__setattr__', '__sizeof__', '__str__', '__subclasshook__']\n"
     ]
    }
   ],
   "source": [
    "# dir - List  names/synbols in given scope\n",
    "print( dir(__package__) )"
   ]
  },
  {
   "cell_type": "code",
   "execution_count": 2,
   "metadata": {},
   "outputs": [
    {
     "name": "stdout",
     "output_type": "stream",
     "text": [
      "['__add__', '__class__', '__contains__', '__delattr__', '__delitem__', '__dir__', '__doc__', '__eq__', '__format__', '__ge__', '__getattribute__', '__getitem__', '__gt__', '__hash__', '__iadd__', '__imul__', '__init__', '__init_subclass__', '__iter__', '__le__', '__len__', '__lt__', '__mul__', '__ne__', '__new__', '__reduce__', '__reduce_ex__', '__repr__', '__reversed__', '__rmul__', '__setattr__', '__setitem__', '__sizeof__', '__str__', '__subclasshook__', 'append', 'clear', 'copy', 'count', 'extend', 'index', 'insert', 'pop', 'remove', 'reverse', 'sort']\n"
     ]
    }
   ],
   "source": [
    "my_list = [1, 2, 3]\n",
    "print(dir(my_list))"
   ]
  },
  {
   "cell_type": "code",
   "execution_count": 6,
   "metadata": {},
   "outputs": [
    {
     "name": "stdout",
     "output_type": "stream",
     "text": [
      "[('__add__', <slot wrapper '__add__' of 'list' objects>), ('__class__', <class 'type'>), ('__contains__', <slot wrapper '__contains__' of 'list' objects>), ('__delattr__', <slot wrapper '__delattr__' of 'object' objects>), ('__delitem__', <slot wrapper '__delitem__' of 'list' objects>), ('__dir__', <method '__dir__' of 'object' objects>), ('__doc__', \"list() -> new empty list\\nlist(iterable) -> new list initialized from iterable's items\"), ('__eq__', <slot wrapper '__eq__' of 'list' objects>), ('__format__', <method '__format__' of 'object' objects>), ('__ge__', <slot wrapper '__ge__' of 'list' objects>), ('__getattribute__', <slot wrapper '__getattribute__' of 'list' objects>), ('__getitem__', <method '__getitem__' of 'list' objects>), ('__gt__', <slot wrapper '__gt__' of 'list' objects>), ('__hash__', None), ('__iadd__', <slot wrapper '__iadd__' of 'list' objects>), ('__imul__', <slot wrapper '__imul__' of 'list' objects>), ('__init__', <slot wrapper '__init__' of 'list' objects>), ('__init_subclass__', <built-in method __init_subclass__ of type object at 0x000000001D3894F0>), ('__iter__', <slot wrapper '__iter__' of 'list' objects>), ('__le__', <slot wrapper '__le__' of 'list' objects>), ('__len__', <slot wrapper '__len__' of 'list' objects>), ('__lt__', <slot wrapper '__lt__' of 'list' objects>), ('__mul__', <slot wrapper '__mul__' of 'list' objects>), ('__ne__', <slot wrapper '__ne__' of 'list' objects>), ('__new__', <built-in method __new__ of type object at 0x000000001D3894F0>), ('__reduce__', <method '__reduce__' of 'object' objects>), ('__reduce_ex__', <method '__reduce_ex__' of 'object' objects>), ('__repr__', <slot wrapper '__repr__' of 'list' objects>), ('__reversed__', <method '__reversed__' of 'list' objects>), ('__rmul__', <slot wrapper '__rmul__' of 'list' objects>), ('__setattr__', <slot wrapper '__setattr__' of 'object' objects>), ('__setitem__', <slot wrapper '__setitem__' of 'list' objects>), ('__sizeof__', <method '__sizeof__' of 'list' objects>), ('__str__', <slot wrapper '__str__' of 'object' objects>), ('__subclasshook__', <built-in method __subclasshook__ of type object at 0x000000001D3894F0>), ('append', <method 'append' of 'list' objects>), ('clear', <method 'clear' of 'list' objects>), ('copy', <method 'copy' of 'list' objects>), ('count', <method 'count' of 'list' objects>), ('extend', <method 'extend' of 'list' objects>), ('index', <method 'index' of 'list' objects>), ('insert', <method 'insert' of 'list' objects>), ('pop', <method 'pop' of 'list' objects>), ('remove', <method 'remove' of 'list' objects>), ('reverse', <method 'reverse' of 'list' objects>), ('sort', <method 'sort' of 'list' objects>)]\n"
     ]
    }
   ],
   "source": [
    "import inspect\n",
    "print(inspect.getmembers(list))\n"
   ]
  },
  {
   "cell_type": "code",
   "execution_count": null,
   "metadata": {},
   "outputs": [],
   "source": []
  }
 ],
 "metadata": {
  "kernelspec": {
   "display_name": "Python 3",
   "language": "python",
   "name": "python3"
  },
  "language_info": {
   "codemirror_mode": {
    "name": "ipython",
    "version": 3
   },
   "file_extension": ".py",
   "mimetype": "text/x-python",
   "name": "python",
   "nbconvert_exporter": "python",
   "pygments_lexer": "ipython3",
   "version": "3.6.6"
  }
 },
 "nbformat": 4,
 "nbformat_minor": 2
}
