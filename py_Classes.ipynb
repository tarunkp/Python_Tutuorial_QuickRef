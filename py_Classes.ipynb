{
 "cells": [
  {
   "cell_type": "code",
   "execution_count": null,
   "metadata": {},
   "outputs": [],
   "source": []
  },
  {
   "cell_type": "code",
   "execution_count": 11,
   "metadata": {},
   "outputs": [
    {
     "name": "stdout",
     "output_type": "stream",
     "text": [
      "a.area 28.278\n",
      "a.pi = 3.142\n",
      "a.pi = 43\n",
      "b.area = 6082.912\n",
      "b.pi = 3.142\n",
      "b.pi = 43\n",
      "a.pi = 43\n"
     ]
    }
   ],
   "source": [
    "class Circle(object):\n",
    "    # pi is a class variable\n",
    "    pi = 3.142\n",
    "\n",
    "    def __init__(self, radius):\n",
    "        # self.radius is an instance variable\n",
    "        self.radius = radius\n",
    "\n",
    "    def area(self):\n",
    "        return self.pi * (self.radius ** 2)\n",
    "\n",
    "a = Circle(3)\n",
    "print(\"a.area\", a.area())\n",
    "print(\"a.pi =\", a.pi)\n",
    "a.pi = 43\n",
    "print(\"a.pi =\", a.pi)\n",
    "\n",
    "b = Circle(44)\n",
    "print(\"b.area =\", b.area())\n",
    "print(\"b.pi =\", b.pi)\n",
    "b.pi = 50\n",
    "print(\"b.pi =\", a.pi)\n",
    "print(\"a.pi =\", a.pi)\n"
   ]
  },
  {
   "cell_type": "raw",
   "metadata": {},
   "source": [
    "Magic Methods:\n",
    "__init__\n",
    "It is a class initializer. Whenever an instance of a class is created its __init__ method is called"
   ]
  },
  {
   "cell_type": "code",
   "execution_count": 14,
   "metadata": {},
   "outputs": [
    {
     "name": "stdout",
     "output_type": "stream",
     "text": [
      "Creating object of class class1\n"
     ]
    }
   ],
   "source": [
    "class class1(object):\n",
    "    def __init__(self):\n",
    "        print('Creating object of class class1')\n",
    "\n",
    "cl = class1()\n"
   ]
  },
  {
   "cell_type": "raw",
   "metadata": {},
   "source": [
    "Magic Methods:\n",
    "__getitem__\n",
    "Implementing getitem in a class allows its instances to use the [] (indexer) operator.\n"
   ]
  },
  {
   "cell_type": "code",
   "execution_count": 18,
   "metadata": {},
   "outputs": [
    {
     "name": "stdout",
     "output_type": "stream",
     "text": [
      "one\n",
      "three\n",
      "None\n"
     ]
    }
   ],
   "source": [
    "class class2(object):\n",
    "    def __init__(self, x, y, z):\n",
    "        self.x, self.y, self.z = x, y, z\n",
    "    def __getitem__(self, i):\n",
    "        if i == 1:\n",
    "            return self.x\n",
    "        elif i == 2:\n",
    "            return self.y\n",
    "        elif i == 3:\n",
    "            return self.z\n",
    "        else:\n",
    "            return None\n",
    "\n",
    "foo = class2('one', 'two', 'three')\n",
    "print(foo[1])\n",
    "print(foo[3])\n",
    "print(foo['two'])\n"
   ]
  },
  {
   "cell_type": "code",
   "execution_count": null,
   "metadata": {},
   "outputs": [],
   "source": []
  }
 ],
 "metadata": {
  "kernelspec": {
   "display_name": "Python 3",
   "language": "python",
   "name": "python3"
  },
  "language_info": {
   "codemirror_mode": {
    "name": "ipython",
    "version": 3
   },
   "file_extension": ".py",
   "mimetype": "text/x-python",
   "name": "python",
   "nbconvert_exporter": "python",
   "pygments_lexer": "ipython3",
   "version": "3.6.6"
  }
 },
 "nbformat": 4,
 "nbformat_minor": 2
}
