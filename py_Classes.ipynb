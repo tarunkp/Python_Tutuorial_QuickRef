{
 "cells": [
  {
   "cell_type": "markdown",
   "metadata": {},
   "source": [
    "# Python Classes"
   ]
  },
  {
   "cell_type": "code",
   "execution_count": 1,
   "metadata": {},
   "outputs": [
    {
     "name": "stdout",
     "output_type": "stream",
     "text": [
      "a.area 28.278\n",
      "a.pi = 3.142\n",
      "\n",
      "After updating radius of object 'a'\n",
      "a.pi = 3.142\n",
      "a.radius = 5\n",
      "a.area 78.55\n",
      "\n",
      "After changing value of pi through object 'a'\n",
      "Circle.pi = 3.142\n",
      "a.pi = 10\n",
      "b.pi = 3.142\n",
      "a.radius = 5\n",
      "a.area 250\n",
      "\n",
      "After changing value of pi through Class\n",
      "Circle.pi = 50\n",
      "a.pi = 10\n",
      "b.pi = 50\n",
      "a.area 250\n",
      "b.area = 450\n",
      "\n",
      "Note: Updating class variable through instance creates a local copy of class variable in the instance.\n",
      "Here, b.pi is not modified, so it still refers to pi in the class Circle\n"
     ]
    }
   ],
   "source": [
    "class Circle(object):\n",
    "    'Optional class documentation string'\n",
    "    # pi is a class variable - Shared by all objects of the class\n",
    "    pi = 3.142\n",
    "\n",
    "    # Class constructor / initializer\n",
    "    def __init__(self, radius):\n",
    "        # self.radius is an instance variable\n",
    "        self.radius = radius\n",
    "\n",
    "    def area(self):\n",
    "        # access pi through instance\n",
    "        return self.pi * (self.radius ** 2)\n",
    "    \n",
    "# Creating instances (objects of the class)\n",
    "a = Circle(3)\n",
    "b = Circle(3)\n",
    "print(\"a.area\", a.area())\n",
    "print(\"a.pi =\", a.pi, end='\\n\\n')\n",
    "\n",
    "print(\"After updating radius of object 'a'\")\n",
    "a.radius = 5\n",
    "print(\"a.pi =\", a.pi)\n",
    "print(\"a.radius =\", a.radius)\n",
    "print(\"a.area\", a.area(), end='\\n\\n')\n",
    "\n",
    "print(\"After changing value of pi through object 'a'\")\n",
    "a.pi = 10\n",
    "print(\"Circle.pi =\", Circle.pi)\n",
    "print(\"a.pi =\", a.pi)\n",
    "print(\"b.pi =\", b.pi)\n",
    "print(\"a.radius =\", a.radius)\n",
    "print(\"a.area\", a.area(), end='\\n\\n')\n",
    "\n",
    "print(\"After changing value of pi through Class\")\n",
    "Circle.pi = 50\n",
    "print(\"Circle.pi =\", Circle.pi)\n",
    "print(\"a.pi =\", a.pi)\n",
    "print(\"b.pi =\", b.pi)\n",
    "print(\"a.area\", a.area())\n",
    "print(\"b.area =\", b.area(), end='\\n\\n')\n",
    "\n",
    "print(\"Note: Updating class variable through instance creates a local copy of class variable in the instance.\")\n",
    "print(\"Here, b.pi is not modified, so it still refers to pi in the class Circle\")\n"
   ]
  },
  {
   "cell_type": "markdown",
   "metadata": {},
   "source": [
    "### One can add, remove, or modify attributes of classes and objects at any time. "
   ]
  },
  {
   "cell_type": "code",
   "execution_count": 2,
   "metadata": {},
   "outputs": [
    {
     "name": "stdout",
     "output_type": "stream",
     "text": [
      "Attributes before adding:\n",
      " ['__class__', '__delattr__', '__dict__', '__dir__', '__doc__', '__eq__', '__format__', '__ge__', '__getattribute__', '__gt__', '__hash__', '__init__', '__init_subclass__', '__le__', '__lt__', '__module__', '__ne__', '__new__', '__reduce__', '__reduce_ex__', '__repr__', '__setattr__', '__sizeof__', '__str__', '__subclasshook__', '__weakref__', 'area', 'pi', 'radius']\n",
      "\n",
      "Attributes after adding:\n",
      " ['__class__', '__delattr__', '__dict__', '__dir__', '__doc__', '__eq__', '__format__', '__ge__', '__getattribute__', '__gt__', '__hash__', '__init__', '__init_subclass__', '__le__', '__lt__', '__module__', '__ne__', '__new__', '__reduce__', '__reduce_ex__', '__repr__', '__setattr__', '__sizeof__', '__str__', '__subclasshook__', '__weakref__', 'area', 'color', 'pi', 'radius', 'xyz']\n",
      "\n",
      "Attributes after deleting:\n",
      " ['__class__', '__delattr__', '__dict__', '__dir__', '__doc__', '__eq__', '__format__', '__ge__', '__getattribute__', '__gt__', '__hash__', '__init__', '__init_subclass__', '__le__', '__lt__', '__module__', '__ne__', '__new__', '__reduce__', '__reduce_ex__', '__repr__', '__setattr__', '__sizeof__', '__str__', '__subclasshook__', '__weakref__', 'area', 'pi', 'radius', 'xyz']\n"
     ]
    }
   ],
   "source": [
    "print(\"Attributes before adding:\\n\", dir(a), end='\\n\\n')\n",
    "a.xyz = 'abc'  # Add an 'xyz' attribute.\n",
    "a.color = 7  # Modify 'radius' attribute.\n",
    "print(\"Attributes after adding:\\n\", dir(a), end='\\n\\n')\n",
    "del a.color  # Delete 'radius' attribute.\n",
    "print(\"Attributes after deleting:\\n\", dir(a))\n"
   ]
  },
  {
   "cell_type": "markdown",
   "metadata": {},
   "source": [
    "### The attributes of Class can be accessed/modified with following functions −\n",
    "\n",
    "The hasattr(obj,name) − to check if an attribute exists or not.\n",
    "\n",
    "The getattr(obj, name[, default]) − to access the attribute of object.\n",
    "\n",
    "The setattr(obj,name,value) − to set an attribute. If attribute does not exist, then it would be created.\n",
    "\n",
    "The delattr(obj, name) − to delete an attribute."
   ]
  },
  {
   "cell_type": "code",
   "execution_count": 3,
   "metadata": {},
   "outputs": [
    {
     "name": "stdout",
     "output_type": "stream",
     "text": [
      "True\n",
      "abc\n",
      "pqr\n",
      "False\n"
     ]
    }
   ],
   "source": [
    "print(hasattr(a, 'xyz'))\n",
    "print(getattr(a, 'xyz'))\n",
    "setattr(a, 'xyz', 'pqr')\n",
    "print(getattr(a, 'xyz'))\n",
    "delattr(a, 'xyz')\n",
    "print(hasattr(a, 'xyz'))\n",
    "setattr(a, 'xyz', 'abc')\n"
   ]
  },
  {
   "cell_type": "markdown",
   "metadata": {},
   "source": [
    "### Built-In Class Attributes\n",
    "Every Python class keeps following built-in attributes and they can be accessed using dot operator like any other attribute. These are also called Magic Methods.\n",
    "\n",
    "\n",
    "\\_\\_dict\\_\\_ − Dictionary containing the class's namespace.\n",
    "\n",
    "\n",
    "\\_\\_doc\\_\\_ − Class documentation string or none, if undefined.\n",
    "\n",
    "\n",
    "\\_\\_name\\_\\_ − Class name.\n",
    "\n",
    "\n",
    "\\_\\_module\\_\\_ − Module name in which the class is defined. This attribute is \"__main__\" in interactive mode.\n",
    "\n",
    "\n",
    "\\_\\_bases\\_\\_ − A possibly empty tuple containing the base classes, in the order of their occurrence in the base class list."
   ]
  },
  {
   "cell_type": "markdown",
   "metadata": {},
   "source": [
    "### Constructor and destructor\n",
    "\\_\\_init\\_\\_ : It is a class initializer. Whenever an instance of a class is created this method is called.\n",
    "\n",
    "\\_\\_del\\_\\_ : It is a class cleanup method. Whenever an instance of a class is deleted or garbage collected, this method is called."
   ]
  },
  {
   "cell_type": "code",
   "execution_count": 4,
   "metadata": {},
   "outputs": [
    {
     "name": "stdout",
     "output_type": "stream",
     "text": [
      "Creating object of class class1\n",
      "Object of class1 destroyed\n"
     ]
    }
   ],
   "source": [
    "class class1(object):\n",
    "    def __init__(self):\n",
    "        print('Creating object of class class1')\n",
    "    \n",
    "    def __del__(self):\n",
    "        class_name = self.__class__.__name__\n",
    "        print(\"Object of\", class_name, \"destroyed\")\n",
    "\n",
    "c1 = class1()\n",
    "del c1"
   ]
  },
  {
   "cell_type": "markdown",
   "metadata": {},
   "source": [
    "### Adding indexing operator [] to class\n",
    "Add method \\_\\_getitem\\_\\_\n",
    "Implementing getitem in a class allows its instances to use the [] (indexer) operator.\n"
   ]
  },
  {
   "cell_type": "code",
   "execution_count": 5,
   "metadata": {},
   "outputs": [
    {
     "name": "stdout",
     "output_type": "stream",
     "text": [
      "one\n",
      "three\n",
      "None\n"
     ]
    }
   ],
   "source": [
    "class class2(object):\n",
    "    def __init__(self, x, y, z):\n",
    "        self.x, self.y, self.z = x, y, z\n",
    "    def __getitem__(self, i):\n",
    "        if i == 1:\n",
    "            return self.x\n",
    "        elif i == 2:\n",
    "            return self.y\n",
    "        elif i == 3:\n",
    "            return self.z\n",
    "        else:\n",
    "            return None\n",
    "\n",
    "foo = class2('one', 'two', 'three')\n",
    "print(foo[1])\n",
    "print(foo[3])\n",
    "print(foo['two'])\n"
   ]
  },
  {
   "cell_type": "markdown",
   "metadata": {},
   "source": [
    "### Class Inheritance\n",
    "Python supports class hierarchies. "
   ]
  },
  {
   "cell_type": "code",
   "execution_count": 6,
   "metadata": {},
   "outputs": [
    {
     "name": "stdout",
     "output_type": "stream",
     "text": [
      "Calling Ch1's constructor\n",
      "Calling P1's method m1\n",
      "Calling P2's method m3\n",
      "Calling Ch1's method cm1\n",
      "Calling Ch1's method m2 which override P1's m2 methos\n",
      "True\n",
      "True\n",
      "True\n"
     ]
    }
   ],
   "source": [
    "class P1:\n",
    "    def __init__(self):\n",
    "        print (\"Calling P1 constructor\")\n",
    "    def m1(self):\n",
    "        print (\"Calling P1's method m1\")\n",
    "    def m2(self):\n",
    "        print (\"Calling P1's method m2\")\n",
    "\n",
    "class P2:\n",
    "    def __init__(self):\n",
    "        print (\"Calling P2's constructor\")\n",
    "    def m3(self):\n",
    "        print (\"Calling P2's method m3\")\n",
    "\n",
    "\n",
    "class Ch1(P1, P2):\n",
    "    def __init__(self):\n",
    "        print (\"Calling Ch1's constructor\")\n",
    "    def cm1(self):\n",
    "        print (\"Calling Ch1's method cm1\")\n",
    "    def m2(self):\n",
    "        print (\"Calling Ch1's method m2 which override P1's m2 methos\")\n",
    "\n",
    "a = Ch1()\n",
    "a.m1()\n",
    "a.m3()\n",
    "a.cm1()\n",
    "a.m2()\n",
    "\n",
    "print(issubclass(Ch1, P1))\n",
    "print(issubclass(Ch1, P2))\n",
    "print(isinstance(a, Ch1))"
   ]
  },
  {
   "cell_type": "markdown",
   "metadata": {},
   "source": [
    "### Python Class Data Hiding\n",
    "Every attribute (data/method) in the class are public.\n",
    "The convention is, any attribute name prefixed with an underscore (e.g. \\_spam) should be treated as a non-public member. It should be considered an implementation detail and subject to change without notice (but it is accessible).\n",
    "\n",
    "\n",
    "Since there is a valid use-case for class-private members (namely to avoid name clashes of names with names defined by subclasses), there is limited support for such a mechanism, called name mangling. Any identifier of the form \\_\\_spam (at least two leading underscores, at most one trailing underscore) is textually replaced with \\_classname\\_\\_spam, where classname is the current class name with leading underscore(s) stripped.\n",
    "\n",
    "Name mangling is helpful for letting subclasses override methods without breaking intraclass method calls. For example:"
   ]
  },
  {
   "cell_type": "code",
   "execution_count": 7,
   "metadata": {},
   "outputs": [],
   "source": [
    "class Mapping:\n",
    "    def __init__(self, iterable):\n",
    "        self.items_list = []\n",
    "        self.__update(iterable)\n",
    "\n",
    "    def update(self, iterable):\n",
    "        for item in iterable:\n",
    "            self.items_list.append(item)\n",
    "\n",
    "    __update = update   # private copy of original update() method\n",
    "\n",
    "class MappingSubclass(Mapping):\n",
    "\n",
    "    def update(self, keys, values):\n",
    "        # provides new signature for update()\n",
    "        # but does not break __init__()\n",
    "        for item in zip(keys, values):\n",
    "            self.items_list.append(item)"
   ]
  },
  {
   "cell_type": "code",
   "execution_count": null,
   "metadata": {},
   "outputs": [],
   "source": []
  }
 ],
 "metadata": {
  "kernelspec": {
   "display_name": "Python 3",
   "language": "python",
   "name": "python3"
  },
  "language_info": {
   "codemirror_mode": {
    "name": "ipython",
    "version": 3
   },
   "file_extension": ".py",
   "mimetype": "text/x-python",
   "name": "python",
   "nbconvert_exporter": "python",
   "pygments_lexer": "ipython3",
   "version": "3.6.8"
  }
 },
 "nbformat": 4,
 "nbformat_minor": 2
}
