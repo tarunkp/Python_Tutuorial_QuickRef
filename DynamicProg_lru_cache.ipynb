{
 "cells": [
  {
   "cell_type": "markdown",
   "metadata": {},
   "source": [
    "### Dynamic Programming Example"
   ]
  },
  {
   "cell_type": "markdown",
   "metadata": {},
   "source": [
    "Abstract the problem\n",
    "\n",
    "Given an integer 1≤N≤20, an N×N grid of integers 1≤Gij≤10, and a target 1≤T≤200, find the path from top left to bottom right in the grid (moving right or down at each step) which, when subtracted from T, leaves the smallest remainder r≥0 (if any such path exists).\n"
   ]
  },
  {
   "cell_type": "code",
   "execution_count": 1,
   "metadata": {},
   "outputs": [],
   "source": [
    "from functools import lru_cache\n",
    "\n",
    "def smallest_remainder(total, grid):\n",
    "    \"\"\"Return the smallest remainder from total after subtracting the\n",
    "    numbers on a path from top left to bottom right of grid, or -1 if\n",
    "    there is no path whose sum is less than or equal to total.\n",
    "\n",
    "    >>> smallest_remainder(7, [[0, 2, 5], [1, 1, 3], [2, 1, 1]])\n",
    "    0\n",
    "    >>> smallest_remainder(12, [[0, 2, 5], [1, 1, 3], [2, 1, 1]])\n",
    "    1\n",
    "\n",
    "    \"\"\"\n",
    "    @lru_cache(maxsize=None)\n",
    "    def r(t, i, j):\n",
    "        # Smallest remainder from t after subtracting the numbers on a path\n",
    "        # from top left to (i, j) in grid, or total + 1 if there is no\n",
    "        # path whose sum is less than or equal to t.\n",
    "        t -= grid[i][j]\n",
    "        if i < 0 or j < 0 or t < 0:\n",
    "            return total + 1\n",
    "        elif i == j == 0:\n",
    "            return t\n",
    "        else:\n",
    "            return min(r(t, i - 1, j), r(t, i, j - 1))\n",
    "\n",
    "    remainder = r(total, len(grid) - 1, len(grid) - 1)\n",
    "    return remainder if remainder <= total else -1"
   ]
  },
  {
   "cell_type": "code",
   "execution_count": 2,
   "metadata": {},
   "outputs": [
    {
     "name": "stdout",
     "output_type": "stream",
     "text": [
      "[[3, 4, 1, 1, 4, 4, 2, 4, 2, 4, 3, 1, 5, 5, 5, 5, 4, 5, 3, 2], [1, 4, 1, 4, 1, 2, 3, 2, 2, 1, 5, 3, 4, 5, 3, 5, 4, 1, 1, 5], [3, 2, 1, 4, 2, 3, 2, 1, 3, 1, 1, 3, 3, 3, 5, 1, 2, 5, 2, 4], [5, 3, 3, 1, 1, 4, 2, 4, 2, 1, 3, 4, 1, 5, 4, 1, 1, 3, 2, 1], [5, 2, 1, 4, 3, 5, 2, 2, 3, 3, 5, 5, 2, 5, 2, 2, 1, 2, 1, 5], [2, 4, 3, 2, 4, 1, 4, 1, 3, 5, 4, 4, 5, 1, 1, 4, 2, 1, 3, 4], [1, 3, 2, 2, 4, 4, 1, 5, 4, 2, 5, 5, 1, 3, 5, 1, 1, 5, 1, 3], [5, 3, 2, 5, 3, 2, 4, 4, 5, 3, 5, 2, 5, 4, 2, 5, 3, 3, 3, 5], [1, 2, 2, 1, 1, 2, 5, 4, 5, 5, 5, 3, 4, 5, 1, 1, 2, 4, 3, 2], [5, 4, 1, 1, 3, 3, 4, 4, 1, 2, 2, 3, 2, 1, 3, 1, 1, 2, 2, 2], [4, 4, 2, 2, 1, 3, 1, 4, 1, 2, 3, 1, 5, 1, 1, 2, 4, 3, 1, 4], [5, 5, 2, 2, 2, 5, 4, 4, 4, 3, 4, 2, 5, 1, 4, 3, 1, 5, 4, 4], [5, 2, 3, 5, 1, 1, 1, 4, 2, 1, 5, 3, 4, 2, 5, 2, 4, 5, 2, 4], [1, 4, 4, 1, 3, 2, 3, 4, 3, 2, 3, 1, 1, 1, 1, 1, 1, 4, 1, 5], [3, 4, 2, 4, 2, 5, 1, 5, 2, 4, 5, 3, 1, 4, 3, 4, 5, 3, 2, 2], [3, 3, 1, 4, 5, 4, 2, 5, 2, 5, 4, 3, 5, 3, 1, 2, 3, 1, 3, 2], [2, 1, 4, 2, 1, 3, 3, 1, 3, 2, 2, 4, 1, 4, 2, 5, 2, 4, 3, 2], [4, 4, 1, 2, 4, 1, 1, 4, 5, 1, 2, 2, 2, 5, 2, 4, 5, 1, 3, 1], [2, 2, 5, 2, 2, 4, 1, 1, 4, 2, 2, 2, 4, 2, 3, 1, 3, 5, 2, 1], [3, 2, 1, 3, 1, 3, 4, 4, 2, 1, 5, 3, 4, 5, 4, 1, 3, 2, 5, 4]]\n",
      "54\n",
      "hoho\n"
     ]
    }
   ],
   "source": [
    "from random import randrange\n",
    "N = 20\n",
    "grid = [[randrange(1, 6) for _ in range(N)] for _ in range(N)]\n",
    "T = 200\n",
    "print(grid)\n",
    "print(smallest_remainder(T, grid))\n",
    "print(\"hoho\")"
   ]
  },
  {
   "cell_type": "markdown",
   "metadata": {},
   "source": [
    "### Other Example"
   ]
  },
  {
   "cell_type": "code",
   "execution_count": 3,
   "metadata": {},
   "outputs": [],
   "source": [
    "import unittest\n",
    "import heapq\n",
    "\n",
    "class Node:\n",
    "    def __init__(self, food, position):\n",
    "        self.food_remaining = food\n",
    "        self.position = position\n",
    "\n",
    "    def __lt__(self, other):\n",
    "        return self.food_remaining < other.food_remaining\n",
    "\n",
    "def ZombieGrid(food, grid):\n",
    "    grid_height = len(grid)\n",
    "    grid_width = len(grid[0])\n",
    "\n",
    "    pq = []\n",
    "    # Rabbit starts in the top-left corner: 0,0\n",
    "    heapq.heappush(pq, Node(food, (0,0)))\n",
    "\n",
    "    while len(pq) > 0:\n",
    "        top = heapq.heappop(pq)\n",
    "\n",
    "        # once we're in the bottom-right corner then we are done\n",
    "        if top.position == (grid_height-1, grid_width-1):\n",
    "            return top.food_remaining\n",
    "\n",
    "        # try moving down\n",
    "        if top.position[0] < grid_height-1:\n",
    "            # will use the food up for the room below\n",
    "            food_for_room_below = grid[top.position[0]+1][top.position[1]]\n",
    "            # don't go to the room if we will get eaten!\n",
    "            if top.food_remaining - food_for_room_below >= 0:\n",
    "                heapq.heappush(pq, Node(top.food_remaining - food_for_room_below, (top.position[0] + 1, top.position[1]) ))\n",
    "\n",
    "        # try moving right, same logic as for moving down\n",
    "        if top.position[1] < grid_width-1:\n",
    "            food_for_room_right = grid[top.position[0]][top.position[1]+1]\n",
    "            if top.food_remaining - food_for_room_right >= 0:\n",
    "                heapq.heappush(pq, Node(top.food_remaining - food_for_room_right, (top.position[0], top.position[1] + 1) ))\n",
    "\n",
    "\n",
    "class UnitTests(unittest.TestCase):\n",
    "    def test_first(self):\n",
    "        self.assertEqual(0, ZombieGrid(7, [[0, 2, 5], [1, 1, 3], [2, 1, 1]]))\n",
    "    def test_second(self):\n",
    "        self.assertEqual(1, ZombieGrid(12, [[0, 2, 5], [1, 1, 3], [2, 1, 1]]))\n",
    "\n",
    "\n",
    "tests = UnitTests()\n",
    "tests.test_first()\n",
    "tests.test_second()"
   ]
  },
  {
   "cell_type": "code",
   "execution_count": null,
   "metadata": {},
   "outputs": [],
   "source": []
  }
 ],
 "metadata": {
  "kernelspec": {
   "display_name": "Python 3",
   "language": "python",
   "name": "python3"
  },
  "language_info": {
   "codemirror_mode": {
    "name": "ipython",
    "version": 3
   },
   "file_extension": ".py",
   "mimetype": "text/x-python",
   "name": "python",
   "nbconvert_exporter": "python",
   "pygments_lexer": "ipython3",
   "version": "3.6.7"
  }
 },
 "nbformat": 4,
 "nbformat_minor": 2
}
