{
 "cells": [
  {
   "cell_type": "markdown",
   "metadata": {},
   "source": [
    "Python Collection"
   ]
  },
  {
   "cell_type": "code",
   "execution_count": 55,
   "metadata": {},
   "outputs": [],
   "source": [
    "import collections"
   ]
  },
  {
   "cell_type": "markdown",
   "metadata": {},
   "source": [
    "### collections.defaultdict"
   ]
  },
  {
   "cell_type": "raw",
   "metadata": {},
   "source": [
    "defaultdict is a dictionary like object which provides all methods provided by dictionary but takes first argument (default_factory) as default data type for the dictionary. Using defaultdict is faster than doing the same using dict.set_default method.\n",
    "\n",
    "defaultdict - Subclass of the built-in dict class.\n",
    "class collections.defaultdict([default_factory[, ...]])\n",
    "Addsed an attibute default_factory to subclass, rest of the arguments are same as dict.\n",
    "This attribute is set with first argument of constructor (None is not set)\n",
    "This subclass overrides one method and add an extra method __missing__() use internally by __getitem__()\n",
    "default_factory argument specifies the type of value stored in dictionary for any given key. It automatically inserts the value for missing key with default_factory. In other words, Defaultdict[key] for missing key will first create value with  default_factory and return the vlaue object.\n"
   ]
  },
  {
   "cell_type": "code",
   "execution_count": 58,
   "metadata": {},
   "outputs": [
    {
     "data": {
      "text/plain": [
       "[('John', ['Dog', 'Horse']), ('Mary', ['Cat']), ('Will', ['Horse', 'Duck'])]"
      ]
     },
     "execution_count": 58,
     "metadata": {},
     "output_type": "execute_result"
    }
   ],
   "source": [
    "owner_pet_list = [('John', 'Dog'), ('Mary', 'Cat'), ('Will', 'Horse'), ('John', 'Horse'), ('Will', 'Duck')]\n",
    "ddict = collections.defaultdict(list)\n",
    "for k, v in owner_pet_list:\n",
    "     ddict[k].append(v) # key k is inserted when ddict[k] accessed first time and value is initialized with list\n",
    "\n",
    "sorted(ddict.items())"
   ]
  },
  {
   "cell_type": "code",
   "execution_count": 59,
   "metadata": {},
   "outputs": [
    {
     "data": {
      "text/plain": [
       "'John ran to <missing>'"
      ]
     },
     "execution_count": 59,
     "metadata": {},
     "output_type": "execute_result"
    }
   ],
   "source": [
    "def constant_factory(value):\n",
    "    return lambda: value\n",
    "d = collections.defaultdict(constant_factory('<missing>'))\n",
    "d.update(name='John', action='ran')\n",
    "'%(name)s %(action)s to %(object)s' % d"
   ]
  },
  {
   "cell_type": "code",
   "execution_count": 46,
   "metadata": {},
   "outputs": [
    {
     "name": "stdout",
     "output_type": "stream",
     "text": [
      "defaultdict(<function <lambda> at 0x00000000059426A8>, {'colours': defaultdict(<function <lambda> at 0x00000000059426A8>, {'favourite': defaultdict(<function <lambda> at 0x00000000059426A8>, {'test': 'yellow'})})})\n"
     ]
    }
   ],
   "source": [
    "# when you are adding data to nested dictionary inside a dictionary, if a key is not already present in the dictionary,\n",
    "# then it hits a KeyError. defaultdict allows us to circumvent this issue in a clever way. \n",
    "\n",
    "tree = lambda: collections.defaultdict(tree)\n",
    "some_dict = tree()\n",
    "some_dict['colours']['favourite']['test'] = \"yellow\"\n",
    "print(some_dict)"
   ]
  },
  {
   "cell_type": "markdown",
   "metadata": {},
   "source": [
    "### collections.OrderedDict\n",
    "OrderedDicts act just like regular dictionaries except they remember the order that items were added. This matters primarily when you are iterating over the OrderedDict as the order will reflect the order in which the keys were added.\n",
    "A regular dictionary doesn't care about order. But dictionary in newer version maintains the order as well."
   ]
  },
  {
   "cell_type": "code",
   "execution_count": 33,
   "metadata": {},
   "outputs": [
    {
     "name": "stdout",
     "output_type": "stream",
     "text": [
      "a\n",
      "b\n",
      "c\n"
     ]
    }
   ],
   "source": [
    "d = collections.OrderedDict()\n",
    "d['a'] = 1\n",
    "d['b'] = 10\n",
    "d['c'] = 8\n",
    "for letter in d:\n",
    "    print(letter)"
   ]
  },
  {
   "cell_type": "code",
   "execution_count": 61,
   "metadata": {},
   "outputs": [
    {
     "name": "stdout",
     "output_type": "stream",
     "text": [
      "OrderedDict([('apple', 4), ('banana', 3), ('orange', 2), ('pear', 1)])\n",
      "OrderedDict([('pear', 1), ('orange', 2), ('banana', 3), ('apple', 4)])\n",
      "OrderedDict([('pear', 1), ('apple', 4), ('banana', 3), ('orange', 2)])\n"
     ]
    }
   ],
   "source": [
    "d = {'banana': 3, 'apple': 4, 'pear': 1, 'orange': 2}\n",
    "# dictionary sorted by key\n",
    "print(collections.OrderedDict(sorted(d.items(), key=lambda t: t[0])))\n",
    "# dictionary sorted by value\n",
    "print(collections.OrderedDict(sorted(d.items(), key=lambda t: t[1])))\n",
    "# dictionary sorted by length of the key string\n",
    "print(collections.OrderedDict(sorted(d.items(), key=lambda t: len(t[0]))))\n"
   ]
  },
  {
   "cell_type": "markdown",
   "metadata": {},
   "source": [
    "Ordered dictionary variant that remembers the order the keys were last inserted. If a new entry overwrites an existing entry, the original insertion position is changed and moved to the end-"
   ]
  },
  {
   "cell_type": "code",
   "execution_count": 64,
   "metadata": {},
   "outputs": [
    {
     "name": "stdout",
     "output_type": "stream",
     "text": [
      "LastUpdatedOrderedDict([('apple', 4), ('banana', 3), ('orange', 2), ('pear', 1)])\n",
      "LastUpdatedOrderedDict([('apple', 4), ('orange', 2), ('pear', 1), ('banana', 5)])\n"
     ]
    }
   ],
   "source": [
    "class LastUpdatedOrderedDict(collections.OrderedDict):\n",
    "    'Store items in the order the keys were last added'\n",
    "\n",
    "    def __setitem__(self, key, value):\n",
    "        if key in self:\n",
    "            del self[key]\n",
    "        collections.OrderedDict.__setitem__(self, key, value)\n",
    "\n",
    "ld = LastUpdatedOrderedDict(sorted(d.items(), key=lambda t: t[0]))\n",
    "print(ld)\n",
    "ld['banana'] = 5\n",
    "print(ld)\n"
   ]
  },
  {
   "cell_type": "markdown",
   "metadata": {},
   "source": [
    "### collections.Counter"
   ]
  },
  {
   "cell_type": "code",
   "execution_count": 7,
   "metadata": {},
   "outputs": [
    {
     "data": {
      "text/plain": [
       "[('which', 3), ('are', 2), ('stored', 2), ('as', 2), ('Counter', 1)]"
      ]
     },
     "execution_count": 7,
     "metadata": {},
     "output_type": "execute_result"
    }
   ],
   "source": [
    "import re\n",
    "sentence = '''Counter is a dict subclass which helps to count hashable objects.\n",
    "Inside which elements are stored as dictionary keys and counts are stored as values which can be zero or negative'''\n",
    "words = re.findall('\\w+', sentence)\n",
    "collections.Counter(words).most_common(5)"
   ]
  },
  {
   "cell_type": "code",
   "execution_count": 8,
   "metadata": {},
   "outputs": [
    {
     "data": {
      "text/plain": [
       "[('a', 5), ('b', 2), ('r', 2)]"
      ]
     },
     "execution_count": 8,
     "metadata": {},
     "output_type": "execute_result"
    }
   ],
   "source": [
    "collections.Counter('abracadabra').most_common(3)"
   ]
  },
  {
   "cell_type": "code",
   "execution_count": 10,
   "metadata": {},
   "outputs": [
    {
     "data": {
      "text/plain": [
       "['a', 'a', 'a', 'a', 'b', 'b']"
      ]
     },
     "execution_count": 10,
     "metadata": {},
     "output_type": "execute_result"
    }
   ],
   "source": [
    "#Counter objects has a method called elements which returns an iterator over elements repeating each as many times as its count.\n",
    "#Elements are returned in arbitrary order.\n",
    "\n",
    "c = collections.Counter(a=4, b=2, c=0, d=-2)\n",
    "list(c.elements())"
   ]
  },
  {
   "cell_type": "markdown",
   "metadata": {},
   "source": [
    "With multiple Counter objects you can perform operations against them.\n",
    "For instance, you can add two counters which would add the counts for each key.\n",
    "You can also perform intersection or union. \n",
    "If I wanted to compare the values for given keys between two counters, I can return the minimum or maximum values only."
   ]
  },
  {
   "cell_type": "code",
   "execution_count": 17,
   "metadata": {},
   "outputs": [
    {
     "data": {
      "text/plain": [
       "Counter({1: 90, 2: 84, 3: 95, 4: 92})"
      ]
     },
     "execution_count": 17,
     "metadata": {},
     "output_type": "execute_result"
    }
   ],
   "source": [
    "# A student has taken 4 quizzes two times each. She is allowed to keep the highest score for each quiz.\n",
    "\n",
    "first_attempt = collections.Counter({1: 90, 2: 65, 3: 78, 4: 88})\n",
    "second_attempt = collections.Counter({1: 88, 2: 84, 3: 95, 4: 92})\n",
    "final = first_attempt | second_attempt\n",
    "final"
   ]
  },
  {
   "cell_type": "markdown",
   "metadata": {},
   "source": [
    "### collections.deque\n",
    "deque stands for \"double-ended queue\" and is used as a stack or queue. Although lists offer many of the same operations, they are not optimized for variable-length operations."
   ]
  },
  {
   "cell_type": "code",
   "execution_count": 27,
   "metadata": {},
   "outputs": [
    {
     "name": "stdout",
     "output_type": "stream",
     "text": [
      "deque([1, 2, 3, 4, 5])\n",
      "deque([1, 2, 3, 4])\n",
      "deque([2, 3, 4])\n"
     ]
    }
   ],
   "source": [
    "queue = collections.deque([2, 3, 4])\n",
    "queue.append(5)\n",
    "queue.appendleft(1)\n",
    "print(queue)\n",
    "queue.pop()\n",
    "print(queue)\n",
    "queue.popleft()\n",
    "print(queue)\n"
   ]
  },
  {
   "cell_type": "code",
   "execution_count": 43,
   "metadata": {},
   "outputs": [
    {
     "name": "stdout",
     "output_type": "stream",
     "text": [
      "deque([1, 2, 3, 4, 5, 6, 7, 8, 9, 10], maxlen=10)\n",
      "deque([2, 3, 4, 5, 6, 7, 8, 9, 10, 11], maxlen=10)\n",
      "deque([12, 2, 3, 4, 5, 6, 7, 8, 9, 10], maxlen=10)\n"
     ]
    }
   ],
   "source": [
    "# We can also limit the amount of items a deque can hold.\n",
    "# By doing this when we achieve the maximum limit of our deque it will simply pop out the items from the opposite end.\n",
    "lst = [1,2,3,4,5,6,7,8,9,10]\n",
    "d = collections.deque(lst, maxlen=10)\n",
    "print(d)\n",
    "d.append(11)\n",
    "print(d)\n",
    "d.appendleft(12)\n",
    "print(d)\n"
   ]
  },
  {
   "cell_type": "code",
   "execution_count": 57,
   "metadata": {},
   "outputs": [
    {
     "data": {
      "text/plain": [
       "[40.0, 42.0, 45.0, 43.0]"
      ]
     },
     "execution_count": 57,
     "metadata": {},
     "output_type": "execute_result"
    }
   ],
   "source": [
    "# Moving averge generator\n",
    "import itertools\n",
    "# itertools.islice('ABCDEFG', 2) --> A B\n",
    "# itertools.islice('ABCDEFG', 2, 4) --> C D\n",
    "# itertools.islice('ABCDEFG', 2, None) --> C D E F G\n",
    "# itertools.islice('ABCDEFG', 0, None, 2) --> A C E G\n",
    "\n",
    "def moving_average(iterable, n=3):\n",
    "    # moving_average([40, 30, 50, 46, 39, 44]) --> 40.0 42.0 45.0 43.0\n",
    "    it = iter(iterable)\n",
    "    d = collections.deque(itertools.islice(it, n-1))\n",
    "    d.appendleft(0)\n",
    "    s = sum(d)\n",
    "    for elem in it:\n",
    "        s += elem - d.popleft()\n",
    "        d.append(elem)\n",
    "        yield s / n\n",
    "\n",
    "list(moving_average([40, 30, 50, 46, 39, 44]))"
   ]
  },
  {
   "cell_type": "markdown",
   "metadata": {},
   "source": [
    "### namedtuple\n",
    "Named tuples helps to have meaning of each position in a tuple and allow us to code with better readability and self-documenting code. You can use them in any place where you are using tuples."
   ]
  },
  {
   "cell_type": "code",
   "execution_count": 49,
   "metadata": {},
   "outputs": [
    {
     "name": "stdout",
     "output_type": "stream",
     "text": [
      "True\n",
      "True\n",
      "10 20\n",
      "Coordinate2(x=30, y=45)\n",
      "Coordinate(x=30, y=45)\n"
     ]
    }
   ],
   "source": [
    "coord = collections.namedtuple('Coordinate', ['x', 'y'])\n",
    "coord2 = collections.namedtuple('Coordinate2', 'x y')\n",
    "\n",
    "c1 = coord(10, 20)\n",
    "c2 = coord(x=10, y=20)\n",
    "print(c1[0] == c2[0])\n",
    "print(c1.y == c2.y)\n",
    "print(c1.x, c1.y)\n",
    "\n",
    "lst = [30, 45]\n",
    "print(coord2._make(lst))\n",
    "dct = {'y': 45, 'x': 30}\n",
    "print(coord(**dct))"
   ]
  },
  {
   "cell_type": "markdown",
   "metadata": {},
   "source": [
    "### enum.Enum (Python 3.4+)"
   ]
  },
  {
   "cell_type": "code",
   "execution_count": 51,
   "metadata": {},
   "outputs": [
    {
     "name": "stdout",
     "output_type": "stream",
     "text": [
      "True\n",
      "Species.cat\n"
     ]
    }
   ],
   "source": [
    "from enum import Enum\n",
    "class Species(Enum):\n",
    "    cat = 1\n",
    "    dog = 2\n",
    "    horse = 3\n",
    "    dragon = 4\n",
    "    unicorn = 5\n",
    "    # But we don't really care about age, so we can use an alias.\n",
    "    kitten = 1\n",
    "    puppy = 2\n",
    "\n",
    "Animal = collections.namedtuple('Animal', 'name age type')\n",
    "perry = Animal(name=\"Perry\", age=31, type=Species.cat)\n",
    "drogon = Animal(name=\"Drogon\", age=4, type=Species.dragon)\n",
    "tom = Animal(name=\"Tom\", age=75, type=Species.cat)\n",
    "charlie = Animal(name=\"Charlie\", age=2, type=Species.kitten)\n",
    "\n",
    "print(charlie.type == tom.type)\n",
    "print(charlie.type)"
   ]
  },
  {
   "cell_type": "code",
   "execution_count": null,
   "metadata": {},
   "outputs": [],
   "source": []
  }
 ],
 "metadata": {
  "kernelspec": {
   "display_name": "Python 3",
   "language": "python",
   "name": "python3"
  },
  "language_info": {
   "codemirror_mode": {
    "name": "ipython",
    "version": 3
   },
   "file_extension": ".py",
   "mimetype": "text/x-python",
   "name": "python",
   "nbconvert_exporter": "python",
   "pygments_lexer": "ipython3",
   "version": "3.6.6"
  }
 },
 "nbformat": 4,
 "nbformat_minor": 2
}
