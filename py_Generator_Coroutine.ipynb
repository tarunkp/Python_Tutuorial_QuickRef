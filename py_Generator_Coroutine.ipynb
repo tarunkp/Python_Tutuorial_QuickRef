{
 "cells": [
  {
   "cell_type": "markdown",
   "metadata": {},
   "source": [
    "### Generators\n",
    "A generator is a function that produces a sequence of results instead of a single value.  \n",
    "Instead of returning a value, you generate a series of values (using the yield statement)  \n",
    "Typically, it is hooked to a for-loop.  \n",
    "http://www.dabeaz.com/coroutines/Coroutines.pdf  \n"
   ]
  },
  {
   "cell_type": "code",
   "execution_count": 8,
   "metadata": {},
   "outputs": [
    {
     "name": "stdout",
     "output_type": "stream",
     "text": [
      "Counting down from 5\n",
      "5   4   3   2   1   "
     ]
    }
   ],
   "source": [
    "def countdown(n):\n",
    "    print(\"Counting down from\", n)\n",
    "    while n > 0:\n",
    "        yield n\n",
    "        n -= 1\n",
    "\n",
    "for i in countdown(5):\n",
    "    print(i, end=\"   \")\n"
   ]
  },
  {
   "cell_type": "raw",
   "metadata": {},
   "source": [
    "Behavior of generators is different than normal functions.\n",
    "Calling a generator function creates a generator object. it does not start running the function.\n"
   ]
  },
  {
   "cell_type": "code",
   "execution_count": 16,
   "metadata": {},
   "outputs": [
    {
     "name": "stdout",
     "output_type": "stream",
     "text": [
      "x = <generator object countdown at 0x000000000584D990>\n",
      "\n",
      "Calling first next(x)\n",
      "Counting down from 10\n",
      "next(x) = 10\n",
      "Calling first next(x)\n",
      "next(x) = 9\n"
     ]
    }
   ],
   "source": [
    "x = countdown(10)\n",
    "print(\"x =\", x, end=\"\\n\\n\")\n",
    "\n",
    "print(\"Calling first next(x)\")\n",
    "print(\"next(x) =\", next(x))\n",
    "print(\"Calling first next(x)\")\n",
    "print(\"next(x) =\", next(x))"
   ]
  },
  {
   "cell_type": "code",
   "execution_count": 23,
   "metadata": {},
   "outputs": [
    {
     "ename": "FileNotFoundError",
     "evalue": "[Errno 2] No such file or directory: 'tmpxxx/out.log'",
     "output_type": "error",
     "traceback": [
      "\u001b[1;31m---------------------------------------------------------------------------\u001b[0m",
      "\u001b[1;31mFileNotFoundError\u001b[0m                         Traceback (most recent call last)",
      "\u001b[1;32m<ipython-input-23-a9d1f6053495>\u001b[0m in \u001b[0;36m<module>\u001b[1;34m()\u001b[0m\n\u001b[0;32m     11\u001b[0m     \u001b[1;32myield\u001b[0m \u001b[0mline\u001b[0m\u001b[1;33m\u001b[0m\u001b[0m\n\u001b[0;32m     12\u001b[0m \u001b[1;31m#  Floowing code will excersize this generator (but it is an infinite generator, so will have to kill)\u001b[0m\u001b[1;33m\u001b[0m\u001b[1;33m\u001b[0m\u001b[0m\n\u001b[1;32m---> 13\u001b[1;33m \u001b[0mlogfile\u001b[0m \u001b[1;33m=\u001b[0m \u001b[0mopen\u001b[0m\u001b[1;33m(\u001b[0m\u001b[1;34m\"tmpxxx/out.log\"\u001b[0m\u001b[1;33m)\u001b[0m\u001b[1;33m\u001b[0m\u001b[0m\n\u001b[0m\u001b[0;32m     14\u001b[0m \u001b[1;32mfor\u001b[0m \u001b[0mline\u001b[0m \u001b[1;32min\u001b[0m \u001b[0mfollow\u001b[0m\u001b[1;33m(\u001b[0m\u001b[0mlogfile\u001b[0m\u001b[1;33m)\u001b[0m\u001b[1;33m:\u001b[0m\u001b[1;33m\u001b[0m\u001b[0m\n\u001b[0;32m     15\u001b[0m     \u001b[0mprint\u001b[0m\u001b[1;33m(\u001b[0m\u001b[0mline\u001b[0m\u001b[1;33m)\u001b[0m\u001b[1;33m\u001b[0m\u001b[0m\n",
      "\u001b[1;31mFileNotFoundError\u001b[0m: [Errno 2] No such file or directory: 'tmpxxx/out.log'"
     ]
    }
   ],
   "source": [
    "# A Python version of Unix 'tail -f'\n",
    "\n",
    "import time\n",
    "def follow(thefile):\n",
    "    thefile.seek(0,2) # Go to the end of the file\n",
    "    while True:\n",
    "        line = thefile.readline()\n",
    "        if not line:\n",
    "            time.sleep(0.1) # Sleep briefly\n",
    "            continue\n",
    "    yield line\n",
    "#  Floowing code will excersize this generator (but it is an infinite generator, so will have to kill)\n",
    "logfile = open(\"tmpxxx/out.log\")\n",
    "for line in follow(logfile):\n",
    "    print(line)"
   ]
  },
  {
   "cell_type": "markdown",
   "metadata": {},
   "source": [
    "#### Generators as Pipelines\n",
    "One of the most powerful applications of generators is setting up processing pipelines (Similar to shell pipes in Unix).  \n",
    "You can stack a series of generator functions together into a pipe and pull items through it with a for-loop"
   ]
  },
  {
   "cell_type": "code",
   "execution_count": 22,
   "metadata": {},
   "outputs": [
    {
     "ename": "FileNotFoundError",
     "evalue": "[Errno 2] No such file or directory: 'tmpxxx/out.log'",
     "output_type": "error",
     "traceback": [
      "\u001b[1;31m---------------------------------------------------------------------------\u001b[0m",
      "\u001b[1;31mFileNotFoundError\u001b[0m                         Traceback (most recent call last)",
      "\u001b[1;32m<ipython-input-22-bc1a2b7c686e>\u001b[0m in \u001b[0;36m<module>\u001b[1;34m()\u001b[0m\n\u001b[0;32m      5\u001b[0m \u001b[1;33m\u001b[0m\u001b[0m\n\u001b[0;32m      6\u001b[0m \u001b[1;31m# Set up a processing pipe : tail -f | grep python\u001b[0m\u001b[1;33m\u001b[0m\u001b[1;33m\u001b[0m\u001b[0m\n\u001b[1;32m----> 7\u001b[1;33m \u001b[0mlogfile\u001b[0m \u001b[1;33m=\u001b[0m \u001b[0mopen\u001b[0m\u001b[1;33m(\u001b[0m\u001b[1;34m\"tmpxxx/out.log\"\u001b[0m\u001b[1;33m)\u001b[0m\u001b[1;33m\u001b[0m\u001b[0m\n\u001b[0m\u001b[0;32m      8\u001b[0m \u001b[0mloglines\u001b[0m \u001b[1;33m=\u001b[0m \u001b[0mfollow\u001b[0m\u001b[1;33m(\u001b[0m\u001b[0mlogfile\u001b[0m\u001b[1;33m)\u001b[0m\u001b[1;33m\u001b[0m\u001b[0m\n\u001b[0;32m      9\u001b[0m \u001b[0mpylines\u001b[0m \u001b[1;33m=\u001b[0m \u001b[0mgrep\u001b[0m\u001b[1;33m(\u001b[0m\u001b[1;34m\"python\"\u001b[0m\u001b[1;33m,\u001b[0m \u001b[0mloglines\u001b[0m\u001b[1;33m)\u001b[0m\u001b[1;33m\u001b[0m\u001b[0m\n",
      "\u001b[1;31mFileNotFoundError\u001b[0m: [Errno 2] No such file or directory: 'tmpxxx/out.log'"
     ]
    }
   ],
   "source": [
    "def grep(pattern, lines):\n",
    "    for line in lines:\n",
    "        if pattern in line:\n",
    "            yield line\n",
    "\n",
    "# Set up a processing pipe : tail -f | grep python\n",
    "logfile = open(\"tmpxxx/out.log\")\n",
    "loglines = follow(logfile)\n",
    "pylines = grep(\"python\", loglines)\n",
    "# Pull results out of the processing pipeline\n",
    "for line in pylines:\n",
    "    print(line)\n"
   ]
  },
  {
   "cell_type": "markdown",
   "metadata": {},
   "source": [
    "#### Begining of coreutines\n",
    "yield can be used as an expression. For example, on the right side of an assignment"
   ]
  },
  {
   "cell_type": "code",
   "execution_count": 24,
   "metadata": {},
   "outputs": [],
   "source": [
    "def grep(pattern):\n",
    "    print(\"Looking for %s\" % pattern)\n",
    "    while True:\n",
    "        line = (yield)\n",
    "        if pattern in line:\n",
    "            print(line)"
   ]
  },
  {
   "cell_type": "markdown",
   "metadata": {},
   "source": [
    "If you use yield as an expression, you get a coroutine.  \n",
    "These do more than just generate values.  \n",
    "Instead, functions can consume values sent to it."
   ]
  },
  {
   "cell_type": "code",
   "execution_count": 27,
   "metadata": {},
   "outputs": [
    {
     "name": "stdout",
     "output_type": "stream",
     "text": [
      "Looking for python\n",
      "python generators rock!\n"
     ]
    }
   ],
   "source": [
    "g = grep(\"python\")\n",
    "# Prime it. next() advances the coroutine to the first yield expression\n",
    "next(g)\n",
    "g.send(\"Yeah, but no, but yeah, but no\")\n",
    "g.send(\"A series of tubes\")\n",
    "g.send(\"python generators rock!\")\n"
   ]
  },
  {
   "cell_type": "code",
   "execution_count": 33,
   "metadata": {},
   "outputs": [
    {
     "name": "stdout",
     "output_type": "stream",
     "text": [
      "Looking for python\n",
      "Going away. Goodbye\n",
      "python generators rock!\n",
      "Going away. Goodbye\n"
     ]
    }
   ],
   "source": [
    "#  Remembering to call next() is easy to forget.\n",
    "#  Solved by wrapping coroutines with a decorator.\n",
    "\n",
    "def coroutine(func):\n",
    "    def start(*args,**kwargs):\n",
    "        cr = func(*args,**kwargs)\n",
    "        next(cr)\n",
    "        return cr\n",
    "    return start\n",
    "\n",
    "@coroutine\n",
    "def grep(pattern):\n",
    "    print(\"Looking for %s\" % pattern)\n",
    "    try:\n",
    "        while True:\n",
    "            line = (yield)\n",
    "            if pattern in line:\n",
    "                print(line)\n",
    "    except GeneratorExit: # To catch close\n",
    "        print(\"Going away. Goodbye\")\n",
    "\n",
    "g = grep(\"python\")\n",
    "# next(g) not needed as coroutine decorator takes care of it.\n",
    "g.send(\"Yeah, but no, but yeah, but no\")\n",
    "g.send(\"A series of tubes\")\n",
    "g.send(\"python generators rock!\")\n",
    "g.close()\n"
   ]
  },
  {
   "cell_type": "markdown",
   "metadata": {},
   "source": [
    "Generators produce data for iteration.  \n",
    "Coroutines are consumers of data.  "
   ]
  },
  {
   "cell_type": "code",
   "execution_count": null,
   "metadata": {},
   "outputs": [],
   "source": []
  }
 ],
 "metadata": {
  "kernelspec": {
   "display_name": "Python 3",
   "language": "python",
   "name": "python3"
  },
  "language_info": {
   "codemirror_mode": {
    "name": "ipython",
    "version": 3
   },
   "file_extension": ".py",
   "mimetype": "text/x-python",
   "name": "python",
   "nbconvert_exporter": "python",
   "pygments_lexer": "ipython3",
   "version": "3.6.6"
  }
 },
 "nbformat": 4,
 "nbformat_minor": 2
}
