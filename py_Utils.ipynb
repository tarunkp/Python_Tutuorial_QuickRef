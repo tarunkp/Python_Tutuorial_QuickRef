{
 "cells": [
  {
   "cell_type": "code",
   "execution_count": 10,
   "metadata": {},
   "outputs": [
    {
     "name": "stdout",
     "output_type": "stream",
     "text": [
      "range(0, 5)\n",
      "[0, 1, 2, 3, 4]\n",
      "[0, 1, 2, 3, 4]\n",
      "[0, 2, 4]\n",
      "[0, 2, 4, 6, 8]\n"
     ]
    }
   ],
   "source": [
    "# range \n",
    "# range(stop) -> range iterable object\n",
    "# range(start, stop[, step]) -> range iterable object\n",
    "# returns [start, start+step, ... stop) # stop is excluded\n",
    "print (range(5))\n",
    "print (list(range(5)))\n",
    "print (list(range(0, 5)))\n",
    "print (list(range(0, 5, 2)))\n",
    "print (list(range(0, 10, 2)))\n"
   ]
  },
  {
   "cell_type": "code",
   "execution_count": 12,
   "metadata": {},
   "outputs": [
    {
     "name": "stdout",
     "output_type": "stream",
     "text": [
      "<zip object at 0x0000000007068208>\n",
      "[(0, 'a'), (1, 'b'), (2, 'c'), (3, 'd'), (4, 'e')]\n",
      "[(0, 0, 'a'), (1, 2, 'b'), (2, 4, 'c'), (3, 6, 'd'), (4, 8, 'e')]\n",
      "<zip object at 0x0000000007068208>\n",
      "[(0, 4), (1, 5), (2, 6), (3, 7)]\n",
      "[(0, 4), (1, 5), (2, 6), (3, 7)]\n",
      "[(0, 4), (1, 5), (2, 6), (3, 7)]\n"
     ]
    }
   ],
   "source": [
    "# zip\n",
    "# zip takes multiple lists and return an iterable (in python3) / or list (in python2)\n",
    "# each iterable returns a touple with one element from each list\n",
    "print (zip(range(5), [\"a\",\"b\",\"c\",\"d\",\"e\"]))\n",
    "print (list(zip(range(5), [\"a\",\"b\",\"c\",\"d\",\"e\"])))\n",
    "print (list(zip(range(5), range(0,10,2), [\"a\",\"b\",\"c\",\"d\",\"e\"])))\n",
    "\n",
    "lis1 = [0, 1, 2, 3]\n",
    "lis2 = [4, 5, 6, 7]\n",
    "test1 = zip( lis1, lis2)\n",
    "test2 = list(zip(lis1, lis2))\n",
    "zipped_list = test2[:]\n",
    "zipped_list_2 = list(test2)\n",
    "print(test1)\n",
    "print(test2)\n",
    "print(zipped_list)\n",
    "print(zipped_list_2)"
   ]
  },
  {
   "cell_type": "code",
   "execution_count": 6,
   "metadata": {},
   "outputs": [
    {
     "name": "stdout",
     "output_type": "stream",
     "text": [
      "<enumerate object at 0x00000000058D20D8>\n",
      "(0, 'a')\n",
      "1 b\n",
      "2 c\n",
      "3 d\n",
      "4 e\n"
     ]
    }
   ],
   "source": [
    "# enumerate\n",
    "# Return iterator to return tuple with index and the value at the current index.\n",
    "\n",
    "lst = ['a', 'b', 'c', 'd', 'e']\n",
    "enum_lst = enumerate(lst)\n",
    "print(enum_lst)\n",
    "print(next(enum_lst))\n",
    "for counter, value in enum_lst:\n",
    "    print(counter, value)\n"
   ]
  },
  {
   "cell_type": "code",
   "execution_count": 16,
   "metadata": {},
   "outputs": [
    {
     "name": "stdout",
     "output_type": "stream",
     "text": [
      "[1, 2, 3, 4, 5, 6]\n",
      "[1, 2, 3, 4, 5, 6]\n",
      "[1, 2, 3, 4, 5, 6]\n",
      "[1, 2, 3, 4, 5, 6]\n"
     ]
    }
   ],
   "source": [
    "# Flattening list of iterables\n",
    "# Flatten a list using itertools.chain.from_iterable from the itertools package.\n",
    "\n",
    "import itertools\n",
    "a_list = [[1, 2], [3, 4, 5], [6]]\n",
    "# Using itertools.chain  --  FASTER\n",
    "# Another adwantage, you can get iterator for it (memory efficient)\n",
    "print(list(itertools.chain.from_iterable(a_list)))\n",
    "# or\n",
    "print(list(itertools.chain(*a_list)))\n",
    "# or using list comprehension -- SLOWER compared to itertools.chain\n",
    "print([item for sublist in a_list for item in sublist])\n",
    "\n",
    "# We can create lambda function as well\n",
    "flatten1 = lambda l: list(itertools.chain.from_iterable(a_list))\n",
    "flatten2 = lambda l: [item for sublist in l for item in sublist]\n",
    "print(flatten1(a_list))"
   ]
  },
  {
   "cell_type": "code",
   "execution_count": 21,
   "metadata": {},
   "outputs": [
    {
     "name": "stdout",
     "output_type": "stream",
     "text": [
      "[1, 2, 3, 4]\n",
      "[1, 2, 3, 4, 5, 6, {'name': 'some_name', 'age': 30}, 7, 8, 9, 10, 11, 12, 13, {'some', 'set'}, 14, 15, 'some_string', 16, 17, 18, 19, 20, 21, 22, 23, 24, 25, 26, 27]\n",
      "[1, 2, 3, 4, 5, 6, {'name': 'some_name', 'age': 30}, 7, 8, 9, 10, 11, 12, 13, {'some', 'set'}, 14, 15, 'some_string', 16, 17, 18, 19, 20, 21, 22, 23, 24, 25, 26, 27]\n"
     ]
    }
   ],
   "source": [
    "# Flatten any nested list of literals and/or lists or anything - flatten only list part (not set or dict or tuple)\n",
    "\n",
    "flatten = lambda l: flatten(l[0]) + (flatten(l[1:]) if len(l) > 1 else []) if type(l) is list else [l]\n",
    "print(flatten([1,[2,3],4]))\n",
    "print(flatten([1, [2, 3], 4, [5, [6, {'name': 'some_name', 'age':30}, 7]], [8, 9, [10, [11, [12, [13, {'some', 'set'}, 14, [15, 'some_string'], 16], 17, 18], 19], 20], 21, 22, [23, 24], 25], 26, 27]))\n",
    "\n",
    "# Same code in function form\n",
    "def flattenF(l):\n",
    "    if type(l) is list:\n",
    "        if len(l) > 1:\n",
    "            return flatten(l[0]) + flatten(l[1:])\n",
    "        else:\n",
    "            flatten(l[0])\n",
    "    else:\n",
    "        return [l]\n",
    "\n",
    "print(flattenF([1, [2, 3], 4, [5, [6, {'name': 'some_name', 'age':30}, 7]], [8, 9, [10, [11, [12, [13, {'some', 'set'}, 14, [15, 'some_string'], 16], 17, 18], 19], 20], 21, 22, [23, 24], 25], 26, 27]))\n"
   ]
  },
  {
   "cell_type": "code",
   "execution_count": null,
   "metadata": {},
   "outputs": [],
   "source": []
  }
 ],
 "metadata": {
  "kernelspec": {
   "display_name": "Python 3",
   "language": "python",
   "name": "python3"
  },
  "language_info": {
   "codemirror_mode": {
    "name": "ipython",
    "version": 3
   },
   "file_extension": ".py",
   "mimetype": "text/x-python",
   "name": "python",
   "nbconvert_exporter": "python",
   "pygments_lexer": "ipython3",
   "version": "3.6.6"
  }
 },
 "nbformat": 4,
 "nbformat_minor": 2
}
