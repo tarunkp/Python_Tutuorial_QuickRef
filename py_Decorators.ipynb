{
 "cells": [
  {
   "cell_type": "markdown",
   "metadata": {},
   "source": [
    "Decorators are functions which modify the functionality of another function. They help to make our code shorter and more Pythonic. "
   ]
  },
  {
   "cell_type": "raw",
   "metadata": {},
   "source": [
    "Following code demonstrate the core concept of decorator.\n",
    "Ref: http://book.pythontips.com/en/latest/decorators.html"
   ]
  },
  {
   "cell_type": "code",
   "execution_count": 6,
   "metadata": {},
   "outputs": [
    {
     "name": "stdout",
     "output_type": "stream",
     "text": [
      "Executing function_needs_decoration\n",
      "\n",
      "Before calling func()\n",
      "Executing function_needs_decoration\n",
      "After calling func()\n"
     ]
    }
   ],
   "source": [
    "def decorator_func(func):\n",
    "    def wrapperFunc():\n",
    "        print(\"Before calling func()\")\n",
    "        func()\n",
    "        print(\"After calling func()\")\n",
    "\n",
    "    return wrapperFunc\n",
    "\n",
    "\n",
    "def function_needs_decoration():\n",
    "    print(\"Executing function_needs_decoration\")\n",
    "\n",
    "function_needs_decoration()\n",
    "print(\"\")\n",
    "\n",
    "function_needs_decoration = decorator_func(function_needs_decoration)\n",
    "\n",
    "function_needs_decoration()"
   ]
  },
  {
   "cell_type": "code",
   "execution_count": 9,
   "metadata": {},
   "outputs": [
    {
     "name": "stdout",
     "output_type": "stream",
     "text": [
      "Before calling func()\n",
      "Executing function_needs_decoration\n",
      "After calling func()\n",
      "\n",
      "wrapperFunc\n"
     ]
    }
   ],
   "source": [
    "# Using standard decorator code style\n",
    "# @decorator_func   - is short way for \n",
    "# function_needs_decoration = decorator_func(function_needs_decoration)\n",
    "\n",
    "@decorator_func\n",
    "def function_needs_decoration():\n",
    "    print(\"Executing function_needs_decoration\")\n",
    "\n",
    "function_needs_decoration()\n",
    "print(\"\")\n",
    "\n",
    "print(function_needs_decoration.__name__)"
   ]
  },
  {
   "cell_type": "raw",
   "metadata": {},
   "source": [
    "Previous code depict that name and other properties of function_needs_decoration are not propagated to the decorated function.\n",
    "Following code will fix this."
   ]
  },
  {
   "cell_type": "code",
   "execution_count": 10,
   "metadata": {},
   "outputs": [
    {
     "name": "stdout",
     "output_type": "stream",
     "text": [
      "Before calling func()\n",
      "Executing function_needs_decoration\n",
      "After calling func()\n",
      "\n",
      "function_needs_decoration\n"
     ]
    }
   ],
   "source": [
    "from functools import wraps\n",
    "def decorator_func(func):\n",
    "    @wraps(func)\n",
    "    def wrapperFunc():\n",
    "        print(\"Before calling func()\")\n",
    "        func()\n",
    "        print(\"After calling func()\")\n",
    "\n",
    "    return wrapperFunc\n",
    "\n",
    "@decorator_func\n",
    "def function_needs_decoration():\n",
    "    print(\"Executing function_needs_decoration\")\n",
    "\n",
    "function_needs_decoration()\n",
    "print(\"\")\n",
    "\n",
    "print(function_needs_decoration.__name__)"
   ]
  },
  {
   "cell_type": "raw",
   "metadata": {},
   "source": [
    "Previous examples does not have any argument to functions. Here is the template/blueprint for creating decorators."
   ]
  },
  {
   "cell_type": "code",
   "execution_count": 15,
   "metadata": {},
   "outputs": [
    {
     "name": "stdout",
     "output_type": "stream",
     "text": [
      "Function is running\n",
      "Function will not run\n"
     ]
    }
   ],
   "source": [
    "from functools import wraps\n",
    "def decorator_name(f):\n",
    "    @wraps(f)\n",
    "    def decorated(*args, **kwargs):\n",
    "        if not can_run:\n",
    "            return \"Function will not run\"\n",
    "        return f(*args, **kwargs)\n",
    "    return decorated\n",
    "\n",
    "@decorator_name\n",
    "def func():\n",
    "    return(\"Function is running\")\n",
    "\n",
    "can_run = True\n",
    "print(func())\n",
    "\n",
    "can_run = False\n",
    "print(func())"
   ]
  },
  {
   "cell_type": "code",
   "execution_count": 14,
   "metadata": {},
   "outputs": [
    {
     "name": "stdout",
     "output_type": "stream",
     "text": [
      "addition_func was called\n",
      "8\n"
     ]
    }
   ],
   "source": [
    "# Loging example\n",
    "\n",
    "def logit(func):\n",
    "    @wraps(func)\n",
    "    def with_logging(*args, **kwargs):\n",
    "        print(func.__name__ + \" was called\")\n",
    "        return func(*args, **kwargs)\n",
    "    return with_logging\n",
    "\n",
    "@logit\n",
    "def addition_func(x):\n",
    "   return x + x\n",
    "\n",
    "\n",
    "result = addition_func(4)\n",
    "print(result)"
   ]
  },
  {
   "cell_type": "code",
   "execution_count": 47,
   "metadata": {},
   "outputs": [
    {
     "name": "stdout",
     "output_type": "stream",
     "text": [
      "myfunc1 was called\n",
      "myfunc2 was called\n"
     ]
    }
   ],
   "source": [
    "# Decorators with Arguments\n",
    "# 1. Nesting a Decorator Within a Function\n",
    "\n",
    "def logit(logfile='tmp/out.log'):\n",
    "    def logging_decorator(func):\n",
    "        @wraps(func)\n",
    "        def wrapped_function(*args, **kwargs):\n",
    "            log_string = func.__name__ + \" was called\"\n",
    "            print(log_string)\n",
    "            # Open the logfile and append\n",
    "            with open(logfile, 'a') as opened_file:\n",
    "                # Now we log to the specified logfile\n",
    "                opened_file.write(log_string + '\\n')\n",
    "        return wrapped_function\n",
    "    return logging_decorator\n",
    "\n",
    "@logit()\n",
    "def myfunc1():\n",
    "    pass\n",
    "\n",
    "myfunc1()\n",
    "\n",
    "@logit(logfile='tmp/func2.log')\n",
    "def myfunc2():\n",
    "    pass\n",
    "\n",
    "myfunc2()\n"
   ]
  },
  {
   "cell_type": "raw",
   "metadata": {},
   "source": [
    "More example of decorators - https://wiki.python.org/moin/PythonDecoratorLibrary"
   ]
  },
  {
   "cell_type": "code",
   "execution_count": 34,
   "metadata": {},
   "outputs": [
    {
     "name": "stdout",
     "output_type": "stream",
     "text": [
      "Time taken by myFunction = 0.4987671923961443\n"
     ]
    }
   ],
   "source": [
    "import time\n",
    "def timeit(func):\n",
    "    @wraps(func)\n",
    "    def wrapper(*args, **kwargs):\n",
    "        t = time.clock()\n",
    "        res = func(*args, **kwargs)\n",
    "        print(\"Time taken by\", func.__name__, \"=\", time.clock()-t)\n",
    "        return res\n",
    "\n",
    "    return wrapper\n",
    "\n",
    "@timeit\n",
    "def myFunction():\n",
    "    for i in range(20000000):\n",
    "        pass\n",
    "\n",
    "myFunction()"
   ]
  },
  {
   "cell_type": "markdown",
   "metadata": {},
   "source": [
    "## Useful Decorators\n",
    "### lru_cache\n",
    "For caching the output of a function for given set of arguments.  \n",
    "lru_cache - Replace Least Recently Used Cached results with new one.  \n",
    "if maxsize=None, then remember results of all previous calls.  \n",
    "if maxsize=10, then remember 10 most recent unique results.  \n"
   ]
  },
  {
   "cell_type": "code",
   "execution_count": 49,
   "metadata": {},
   "outputs": [
    {
     "name": "stdout",
     "output_type": "stream",
     "text": [
      "Called with args a =  1  b =  1\n",
      "2\n",
      "Called with args a =  1  b =  2\n",
      "3\n",
      "2\n",
      "3\n",
      "Called with args a =  2  b =  1\n",
      "3\n",
      "Called with args a =  1  b =  1\n",
      "2\n",
      "Called with args a =  1  b =  1\n",
      "2\n",
      "Called with args a =  2  b =  1\n",
      "3\n"
     ]
    }
   ],
   "source": [
    "from functools import lru_cache\n",
    "@lru_cache(maxsize=2)\n",
    "def summ(a, b):\n",
    "    print(\"Called with args a = \", a, \" b = \", b)\n",
    "    return a + b\n",
    "\n",
    "print(summ(1, 1))\n",
    "print(summ(1, 2))\n",
    "# Following are cached\n",
    "print(summ(1, 1))\n",
    "print(summ(1, 2))\n",
    "# Following call replaces cache with args (1, 1)\n",
    "print(summ(2, 1))\n",
    "# This will call the function\n",
    "print(summ(1, 1))\n",
    "\n",
    "# We can clear cache\n",
    "summ.cache_clear()\n",
    "# This will call the function\n",
    "print(summ(1, 1))\n",
    "print(summ(2, 1))\n"
   ]
  },
  {
   "cell_type": "code",
   "execution_count": 51,
   "metadata": {},
   "outputs": [
    {
     "data": {
      "text/plain": [
       "75025"
      ]
     },
     "execution_count": 51,
     "metadata": {},
     "output_type": "execute_result"
    }
   ],
   "source": [
    "from functools import wraps\n",
    "\n",
    "# memoize won’t cache unhashable types (dict, lists, etc…) but only the immutable types. Keep that in mind when using it.\n",
    "\n",
    "def memoize(function):\n",
    "    memo = {}\n",
    "    @wraps(function)\n",
    "    def wrapper(*args):\n",
    "        if args in memo:\n",
    "            return memo[args]\n",
    "        else:\n",
    "            rv = function(*args)\n",
    "            memo[args] = rv\n",
    "            return rv\n",
    "    return wrapper\n",
    "\n",
    "@memoize\n",
    "def fibonacci(n):\n",
    "    if n < 2: return n\n",
    "    return fibonacci(n - 1) + fibonacci(n - 2)\n",
    "\n",
    "fibonacci(25)"
   ]
  },
  {
   "cell_type": "code",
   "execution_count": 46,
   "metadata": {},
   "outputs": [
    {
     "name": "stdout",
     "output_type": "stream",
     "text": [
      "610\n",
      "call_count1 = 1973\n",
      "610\n",
      "call_count2 = 16\n"
     ]
    }
   ],
   "source": [
    "# Creating Decorator using Class\n",
    "\n",
    "import collections\n",
    "import functools\n",
    "\n",
    "call_count1 = 0\n",
    "call_count2 = 0\n",
    "\n",
    "class memoized(object):\n",
    "    '''Decorator. Caches a function's return value each time it is called.\n",
    "       If called later with the same arguments, the cached value is returned\n",
    "       (not reevaluated).\n",
    "    '''\n",
    "    def __init__(self, func):\n",
    "        self.func = func\n",
    "        self.cache = {}\n",
    "    def __call__(self, *args):\n",
    "        if not isinstance(args, collections.Hashable):\n",
    "            # uncacheable. a list, for instance.\n",
    "            # better to not cache than blow up.\n",
    "            return self.func(*args)\n",
    "        if args in self.cache:\n",
    "            return self.cache[args]\n",
    "        else:\n",
    "            value = self.func(*args)\n",
    "            self.cache[args] = value\n",
    "            return value\n",
    "    def __repr__(self):\n",
    "        '''Return the function's docstring.'''\n",
    "        return self.func.__doc__\n",
    "    def __get__(self, obj, objtype):\n",
    "        '''Support instance methods.'''\n",
    "        return functools.partial(self.__call__, obj)\n",
    "\n",
    "def fibonacci1(n):\n",
    "    \"Return the nth fibonacci number.\"\n",
    "    global call_count1\n",
    "    call_count1 = call_count1 +1\n",
    "    if n in (0, 1):\n",
    "        return n\n",
    "    return fibonacci1(n-1) + fibonacci1(n-2)\n",
    "    \n",
    "@memoized\n",
    "def fibonacci2(n):\n",
    "    \"Return the nth fibonacci number.\"\n",
    "    global call_count2\n",
    "    call_count2 = call_count2 +1\n",
    "    if n in (0, 1):\n",
    "        return n\n",
    "    return fibonacci2(n-1) + fibonacci2(n-2)\n",
    "\n",
    "print(fibonacci1(15))\n",
    "print(\"call_count1 =\", call_count1)\n",
    "print(fibonacci2(15))\n",
    "print(\"call_count2 =\", call_count2)\n"
   ]
  },
  {
   "cell_type": "code",
   "execution_count": null,
   "metadata": {},
   "outputs": [],
   "source": []
  }
 ],
 "metadata": {
  "kernelspec": {
   "display_name": "Python 3",
   "language": "python",
   "name": "python3"
  },
  "language_info": {
   "codemirror_mode": {
    "name": "ipython",
    "version": 3
   },
   "file_extension": ".py",
   "mimetype": "text/x-python",
   "name": "python",
   "nbconvert_exporter": "python",
   "pygments_lexer": "ipython3",
   "version": "3.6.6"
  }
 },
 "nbformat": 4,
 "nbformat_minor": 2
}
